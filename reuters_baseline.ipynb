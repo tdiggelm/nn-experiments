{
 "cells": [
  {
   "cell_type": "code",
   "execution_count": 1,
   "metadata": {},
   "outputs": [
    {
     "name": "stderr",
     "output_type": "stream",
     "text": [
      "Using TensorFlow backend.\n"
     ]
    }
   ],
   "source": [
    "from nltk.corpus import reuters\n",
    "from sklearn.metrics import classification_report\n",
    "from sklearn.preprocessing import MultiLabelBinarizer\n",
    "from sklearn.feature_extraction.text import TfidfVectorizer\n",
    "from keras.layers import Dense, Dropout\n",
    "from keras.models import Sequential"
   ]
  },
  {
   "cell_type": "code",
   "execution_count": 2,
   "metadata": {},
   "outputs": [],
   "source": [
    "fids_train = [fid for fid in reuters.fileids() if fid.startswith('train')]\n",
    "fids_test = [fid for fid in reuters.fileids() if fid.startswith('test')]\n",
    "\n",
    "tfidf = TfidfVectorizer().fit(reuters.raw(fid) for fid in fids_train)\n",
    "X_train = tfidf.transform(reuters.raw(fid) for fid in fids_train)\n",
    "X_test = tfidf.transform(reuters.raw(fid) for fid in fids_test)\n",
    "\n",
    "mlb = MultiLabelBinarizer().fit(reuters.categories(fid) for fid in fids_train)\n",
    "y_train = mlb.transform(reuters.categories(fid) for fid in fids_train)\n",
    "y_test = mlb.transform(reuters.categories(fid) for fid in fids_test)"
   ]
  },
  {
   "cell_type": "code",
   "execution_count": 3,
   "metadata": {},
   "outputs": [
    {
     "name": "stdout",
     "output_type": "stream",
     "text": [
      "_________________________________________________________________\n",
      "Layer (type)                 Output Shape              Param #   \n",
      "=================================================================\n",
      "dense_1 (Dense)              (None, 256)               6728704   \n",
      "_________________________________________________________________\n",
      "dropout_1 (Dropout)          (None, 256)               0         \n",
      "_________________________________________________________________\n",
      "dense_2 (Dense)              (None, 256)               65792     \n",
      "_________________________________________________________________\n",
      "dropout_2 (Dropout)          (None, 256)               0         \n",
      "_________________________________________________________________\n",
      "dense_3 (Dense)              (None, 90)                23130     \n",
      "=================================================================\n",
      "Total params: 6,817,626\n",
      "Trainable params: 6,817,626\n",
      "Non-trainable params: 0\n",
      "_________________________________________________________________\n",
      "None\n"
     ]
    }
   ],
   "source": [
    "model = Sequential()\n",
    "model.add(Dense(256, input_shape=(X_train.shape[1],), activation='relu'))\n",
    "model.add(Dropout(0.5))\n",
    "model.add(Dense(256, activation='relu'))\n",
    "model.add(Dropout(0.5))\n",
    "model.add(Dense(mlb.classes_.shape[0], activation='sigmoid')) \n",
    "model.compile(loss='binary_crossentropy', optimizer='adam', metrics=['accuracy']) \n",
    "print(model.summary())"
   ]
  },
  {
   "cell_type": "code",
   "execution_count": 4,
   "metadata": {},
   "outputs": [
    {
     "name": "stdout",
     "output_type": "stream",
     "text": [
      "Train on 6992 samples, validate on 777 samples\n",
      "Epoch 1/10\n",
      "6992/6992 [==============================] - 46s 7ms/step - loss: 0.1079 - acc: 0.9782 - val_loss: 0.0338 - val_acc: 0.9920\n",
      "Epoch 2/10\n",
      "6992/6992 [==============================] - 46s 7ms/step - loss: 0.0320 - acc: 0.9920 - val_loss: 0.0243 - val_acc: 0.9934\n",
      "Epoch 3/10\n",
      "6992/6992 [==============================] - 44s 6ms/step - loss: 0.0231 - acc: 0.9936 - val_loss: 0.0182 - val_acc: 0.9948\n",
      "Epoch 4/10\n",
      "6992/6992 [==============================] - 42s 6ms/step - loss: 0.0176 - acc: 0.9948 - val_loss: 0.0154 - val_acc: 0.9953\n",
      "Epoch 5/10\n",
      "6992/6992 [==============================] - 44s 6ms/step - loss: 0.0141 - acc: 0.9956 - val_loss: 0.0138 - val_acc: 0.9958\n",
      "Epoch 6/10\n",
      "6992/6992 [==============================] - 43s 6ms/step - loss: 0.0115 - acc: 0.9963 - val_loss: 0.0124 - val_acc: 0.9961\n",
      "Epoch 7/10\n",
      "6992/6992 [==============================] - 43s 6ms/step - loss: 0.0095 - acc: 0.9969 - val_loss: 0.0116 - val_acc: 0.9965\n",
      "Epoch 8/10\n",
      "6992/6992 [==============================] - 44s 6ms/step - loss: 0.0083 - acc: 0.9973 - val_loss: 0.0114 - val_acc: 0.9964\n",
      "Epoch 9/10\n",
      "6992/6992 [==============================] - 43s 6ms/step - loss: 0.0070 - acc: 0.9976 - val_loss: 0.0109 - val_acc: 0.9966\n",
      "Epoch 10/10\n",
      "6992/6992 [==============================] - 43s 6ms/step - loss: 0.0060 - acc: 0.9980 - val_loss: 0.0107 - val_acc: 0.9968\n",
      "3019/3019 [==============================] - 3s 837us/step\n"
     ]
    }
   ],
   "source": [
    "model.fit(X_train, y_train, shuffle=True, batch_size=32, epochs=10, validation_split=0.1)\n",
    "y_test_pred = model.predict(X_test, verbose=1)"
   ]
  },
  {
   "cell_type": "code",
   "execution_count": 5,
   "metadata": {},
   "outputs": [
    {
     "name": "stdout",
     "output_type": "stream",
     "text": [
      "                 precision    recall  f1-score   support\n",
      "\n",
      "            acq       0.96      0.97      0.97       719\n",
      "           alum       1.00      0.13      0.23        23\n",
      "         barley       1.00      0.43      0.60        14\n",
      "            bop       0.94      0.50      0.65        30\n",
      "        carcass       1.00      0.11      0.20        18\n",
      "     castor-oil       0.00      0.00      0.00         1\n",
      "          cocoa       1.00      0.72      0.84        18\n",
      "        coconut       0.00      0.00      0.00         2\n",
      "    coconut-oil       0.00      0.00      0.00         3\n",
      "         coffee       0.96      0.93      0.95        28\n",
      "         copper       0.91      0.56      0.69        18\n",
      "     copra-cake       0.00      0.00      0.00         1\n",
      "           corn       0.83      0.79      0.81        56\n",
      "         cotton       1.00      0.10      0.18        20\n",
      "     cotton-oil       0.00      0.00      0.00         2\n",
      "            cpi       0.86      0.43      0.57        28\n",
      "            cpu       0.00      0.00      0.00         1\n",
      "          crude       0.87      0.89      0.88       189\n",
      "            dfl       0.00      0.00      0.00         1\n",
      "            dlr       0.84      0.59      0.69        44\n",
      "            dmk       0.00      0.00      0.00         4\n",
      "           earn       0.98      0.99      0.98      1087\n",
      "           fuel       0.00      0.00      0.00        10\n",
      "            gas       1.00      0.35      0.52        17\n",
      "            gnp       0.97      0.80      0.88        35\n",
      "           gold       0.95      0.70      0.81        30\n",
      "          grain       0.90      0.84      0.87       149\n",
      "      groundnut       0.00      0.00      0.00         4\n",
      "  groundnut-oil       0.00      0.00      0.00         1\n",
      "           heat       0.00      0.00      0.00         5\n",
      "            hog       1.00      0.33      0.50         6\n",
      "        housing       1.00      0.25      0.40         4\n",
      "         income       0.00      0.00      0.00         7\n",
      "    instal-debt       0.00      0.00      0.00         1\n",
      "       interest       0.91      0.73      0.81       131\n",
      "            ipi       1.00      0.67      0.80        12\n",
      "     iron-steel       0.80      0.29      0.42        14\n",
      "            jet       0.00      0.00      0.00         1\n",
      "           jobs       1.00      0.52      0.69        21\n",
      "       l-cattle       0.00      0.00      0.00         2\n",
      "           lead       0.00      0.00      0.00        14\n",
      "            lei       0.00      0.00      0.00         3\n",
      "        lin-oil       0.00      0.00      0.00         1\n",
      "      livestock       0.73      0.33      0.46        24\n",
      "         lumber       0.00      0.00      0.00         6\n",
      "      meal-feed       0.00      0.00      0.00        19\n",
      "       money-fx       0.82      0.87      0.84       179\n",
      "   money-supply       0.89      0.74      0.81        34\n",
      "        naphtha       0.00      0.00      0.00         4\n",
      "        nat-gas       0.88      0.47      0.61        30\n",
      "         nickel       0.00      0.00      0.00         1\n",
      "            nkr       0.00      0.00      0.00         2\n",
      "          nzdlr       0.00      0.00      0.00         2\n",
      "            oat       0.00      0.00      0.00         6\n",
      "        oilseed       0.71      0.53      0.61        47\n",
      "         orange       1.00      0.09      0.17        11\n",
      "      palladium       0.00      0.00      0.00         1\n",
      "       palm-oil       1.00      0.60      0.75        10\n",
      "     palmkernel       0.00      0.00      0.00         1\n",
      "       pet-chem       0.00      0.00      0.00        12\n",
      "       platinum       0.00      0.00      0.00         7\n",
      "         potato       0.00      0.00      0.00         3\n",
      "        propane       0.00      0.00      0.00         3\n",
      "           rand       0.00      0.00      0.00         1\n",
      "       rape-oil       0.00      0.00      0.00         3\n",
      "       rapeseed       0.00      0.00      0.00         9\n",
      "       reserves       1.00      0.44      0.62        18\n",
      "         retail       0.00      0.00      0.00         2\n",
      "           rice       1.00      0.08      0.15        24\n",
      "         rubber       1.00      0.50      0.67        12\n",
      "            rye       0.00      0.00      0.00         1\n",
      "           ship       0.84      0.73      0.78        89\n",
      "         silver       0.00      0.00      0.00         8\n",
      "        sorghum       1.00      0.10      0.18        10\n",
      "       soy-meal       0.00      0.00      0.00        13\n",
      "        soy-oil       0.00      0.00      0.00        11\n",
      "        soybean       0.68      0.45      0.55        33\n",
      "strategic-metal       0.00      0.00      0.00        11\n",
      "          sugar       1.00      0.78      0.88        36\n",
      "       sun-meal       0.00      0.00      0.00         1\n",
      "        sun-oil       0.00      0.00      0.00         2\n",
      "        sunseed       0.00      0.00      0.00         5\n",
      "            tea       0.00      0.00      0.00         4\n",
      "            tin       0.00      0.00      0.00        12\n",
      "          trade       0.78      0.78      0.78       117\n",
      "        veg-oil       0.95      0.54      0.69        37\n",
      "          wheat       0.81      0.79      0.80        71\n",
      "            wpi       1.00      0.20      0.33        10\n",
      "            yen       0.00      0.00      0.00        14\n",
      "           zinc       0.00      0.00      0.00        13\n",
      "\n",
      "      micro avg       0.93      0.78      0.85      3744\n",
      "      macro avg       0.43      0.25      0.30      3744\n",
      "   weighted avg       0.87      0.78      0.81      3744\n",
      "    samples avg       0.87      0.85      0.85      3744\n",
      "\n"
     ]
    },
    {
     "name": "stderr",
     "output_type": "stream",
     "text": [
      "/Users/tdiggelm/checkout/total_nn/.py/lib/python3.6/site-packages/sklearn/metrics/classification.py:1143: UndefinedMetricWarning: Precision and F-score are ill-defined and being set to 0.0 in labels with no predicted samples.\n",
      "  'precision', 'predicted', average, warn_for)\n",
      "/Users/tdiggelm/checkout/total_nn/.py/lib/python3.6/site-packages/sklearn/metrics/classification.py:1143: UndefinedMetricWarning: Precision and F-score are ill-defined and being set to 0.0 in samples with no predicted labels.\n",
      "  'precision', 'predicted', average, warn_for)\n"
     ]
    }
   ],
   "source": [
    "# Summary interpretation (i.e. for gold):\n",
    "# - precision: 95% of cases labeled gold are actually about gold\n",
    "# - recall: 70% of the gold labeled (actual) articles where classified as gold\n",
    "print(classification_report(y_test, y_test_pred>0.5, target_names=mlb.classes_))"
   ]
  },
  {
   "cell_type": "code",
   "execution_count": null,
   "metadata": {},
   "outputs": [],
   "source": []
  }
 ],
 "metadata": {
  "kernelspec": {
   "display_name": "Python 3",
   "language": "python",
   "name": "python3"
  },
  "language_info": {
   "codemirror_mode": {
    "name": "ipython",
    "version": 3
   },
   "file_extension": ".py",
   "mimetype": "text/x-python",
   "name": "python",
   "nbconvert_exporter": "python",
   "pygments_lexer": "ipython3",
   "version": "3.6.4"
  }
 },
 "nbformat": 4,
 "nbformat_minor": 2
}
