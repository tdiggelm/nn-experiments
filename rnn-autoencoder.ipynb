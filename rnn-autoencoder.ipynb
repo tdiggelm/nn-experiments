{
 "cells": [
  {
   "cell_type": "code",
   "execution_count": null,
   "metadata": {},
   "outputs": [],
   "source": [
    "from keras import layers\n",
    "from keras.models import Sequential\n",
    "import numpy as np\n",
    "from nltk.corpus import reuters\n",
    "from keras.preprocessing.text import Tokenizer\n",
    "from keras.preprocessing import sequence\n",
    "from keras.utils import get_file\n",
    "from keras.initializers import Constant\n",
    "from keras.utils import to_categorical\n",
    "\n",
    "MAX_NUM_WORDS = 10000\n",
    "MAX_SEQUENCE_LEN = 500"
   ]
  },
  {
   "cell_type": "code",
   "execution_count": null,
   "metadata": {},
   "outputs": [],
   "source": [
    "fileids = reuters.fileids()\n",
    "fileids_test = np.array([fid for fid in fileids if fid.startswith(\"test\")])\n",
    "fileids_train = np.array([fid for fid in fileids if fid.startswith(\"train\")])"
   ]
  },
  {
   "cell_type": "code",
   "execution_count": null,
   "metadata": {},
   "outputs": [],
   "source": [
    "tokenizer = Tokenizer(num_words=MAX_NUM_WORDS)\n",
    "tokenizer.fit_on_texts(reuters.raw(fid) for fid in fileids)\n",
    "X_train = tokenizer.texts_to_sequences(reuters.raw(fid) for fid in fileids_train)\n",
    "X_test = tokenizer.texts_to_sequences(reuters.raw(fid) for fid in fileids_test)"
   ]
  },
  {
   "cell_type": "code",
   "execution_count": null,
   "metadata": {},
   "outputs": [],
   "source": [
    "X_train = sequence.pad_sequences(X_train, maxlen=MAX_SEQUENCE_LEN)\n",
    "X_test = sequence.pad_sequences(X_test, maxlen=MAX_SEQUENCE_LEN)"
   ]
  },
  {
   "cell_type": "code",
   "execution_count": null,
   "metadata": {},
   "outputs": [],
   "source": [
    "# get glove coeff matrix\n",
    "embeddings_index = {}\n",
    "fname = get_file(\"glove.6B.100d.txt\", \"http://nlp.stanford.edu/data/glove.6B.zip\"\n",
    "                 , extract=True)\n",
    "with open(fname, encoding=\"utf-8\") as f:\n",
    "    for line in f:\n",
    "        values = line.split()\n",
    "        word = values[0]\n",
    "        coefs = np.asarray(values[1:], dtype='float32')\n",
    "        embeddings_index[word] = coefs\n",
    "print('Found %s word vectors.' % len(embeddings_index))\n",
    "\n",
    "# prepare pre-learned embedding matrix\n",
    "embdedding_dim = 100\n",
    "word_index = tokenizer.word_index\n",
    "num_words = min(MAX_NUM_WORDS, len(word_index)) + 1\n",
    "embedding_matrix = np.zeros((num_words, embdedding_dim))\n",
    "for word, i in word_index.items():\n",
    "    if i > MAX_NUM_WORDS:\n",
    "        continue\n",
    "    embedding_vector = embeddings_index.get(word)\n",
    "    if embedding_vector is not None:\n",
    "        # words not found in embedding index will be all-zeros.\n",
    "        embedding_matrix[i] = embedding_vector"
   ]
  },
  {
   "cell_type": "code",
   "execution_count": null,
   "metadata": {},
   "outputs": [],
   "source": [
    "def create_model(encoder_units=256, decoder_units=256, rnn_layer=layers.GRU):\n",
    "    embedding = layers.Embedding(num_words, embdedding_dim\n",
    "                          , input_length=MAX_SEQUENCE_LEN\n",
    "                          , embeddings_initializer=Constant(embedding_matrix), trainable=True)\n",
    "    model = Sequential()\n",
    "    model.add(embedding)\n",
    "    model.add(layers.Bidirectional(rnn_layer(encoder_units, return_sequences=False)))\n",
    "    model.add(layers.RepeatVector(MAX_SEQUENCE_LEN))\n",
    "    model.add(layers.Bidirectional(rnn_layer(decoder_units, return_sequences=True)))\n",
    "    model.add(layers.TimeDistributed(layers.Dense(MAX_NUM_WORDS, activation='softmax')))\n",
    "    model.compile(optimizer='adam'\n",
    "                  , loss='categorical_crossentropy'\n",
    "                  , metrics=['accuracy'])\n",
    "    return model"
   ]
  },
  {
   "cell_type": "code",
   "execution_count": null,
   "metadata": {},
   "outputs": [],
   "source": [
    "model = create_model(rnn_layer=layers.CuDNNGRU)\n",
    "model.summary()"
   ]
  },
  {
   "cell_type": "code",
   "execution_count": null,
   "metadata": {},
   "outputs": [],
   "source": [
    "def data_generator(X_in, batch_size=32, shuffle=True, repeat=True):\n",
    "    index = np.arange(X_in.shape[0])\n",
    "    while True:\n",
    "        np.random.shuffle(index)\n",
    "        X = X_in[index]\n",
    "        n = X.shape[0]//batch_size\n",
    "        for chunk in np.split(X[:n*batch_size], n):\n",
    "            yield chunk, to_categorical(chunk, MAX_NUM_WORDS)\n",
    "        rest = X[n*batch_size:]\n",
    "        if rest.shape[0]:\n",
    "            yield rest, to_categorical(rest, MAX_NUM_WORDS)\n",
    "        if not repeat:\n",
    "            break"
   ]
  },
  {
   "cell_type": "code",
   "execution_count": null,
   "metadata": {},
   "outputs": [],
   "source": [
    "bs = 32\n",
    "model.fit_generator(data_generator(X_train, batch_size=bs)\n",
    "                    , steps_per_epoch=X_train.shape[0]//bs\n",
    "                    , epochs=10)"
   ]
  },
  {
   "cell_type": "code",
   "execution_count": null,
   "metadata": {},
   "outputs": [],
   "source": [
    "X_pred = np.argmax(model.predict(X_train[:100], verbose=1), axis=2)\n",
    "X_pred"
   ]
  },
  {
   "cell_type": "code",
   "execution_count": null,
   "metadata": {},
   "outputs": [],
   "source": [
    "X_train[:100]"
   ]
  },
  {
   "cell_type": "code",
   "execution_count": null,
   "metadata": {},
   "outputs": [],
   "source": []
  }
 ],
 "metadata": {
  "kernelspec": {
   "display_name": "Python 3",
   "language": "python",
   "name": "python3"
  },
  "language_info": {
   "codemirror_mode": {
    "name": "ipython",
    "version": 3
   },
   "file_extension": ".py",
   "mimetype": "text/x-python",
   "name": "python",
   "nbconvert_exporter": "python",
   "pygments_lexer": "ipython3",
   "version": "3.6.4"
  }
 },
 "nbformat": 4,
 "nbformat_minor": 2
}
