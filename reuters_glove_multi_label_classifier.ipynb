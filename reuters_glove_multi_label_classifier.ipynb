{
 "cells": [
  {
   "cell_type": "code",
   "execution_count": 1,
   "metadata": {},
   "outputs": [],
   "source": [
    "# - Outlook for multiple classes: for multi-class prediction \n",
    "#     use softmax but for multi-label prediction use sigmoid\n",
    "# - Use aws deep learning instance: \n",
    "#     https://docs.aws.amazon.com/dlami/latest/devguide/keras-mxnet.html\n",
    "# - Use t-SNE to visualize the word embeddings\n",
    "# - Similarity search by using learned embeddings, i.e. \n",
    "#     https://blog.insightdatascience.com/the-unreasonable-effectiveness-of-deep-learning-representations-4ce83fc663cf\n",
    "#     (especially Spotify Annoy Index)\n",
    "# - Test out 1d-conv layers vs. stacked LSTM\n",
    "# - in order to handle arbitrary length input: \n",
    "#     (1) remove input_length from embedding layer,\n",
    "#     (2) batch wise apply pad_sequences to training input"
   ]
  },
  {
   "cell_type": "code",
   "execution_count": 2,
   "metadata": {},
   "outputs": [
    {
     "name": "stderr",
     "output_type": "stream",
     "text": [
      "Using TensorFlow backend.\n"
     ]
    }
   ],
   "source": [
    "from keras.datasets import imdb\n",
    "from keras.preprocessing import sequence \n",
    "from keras.layers import LSTM, Embedding, Dense, Flatten, Bidirectional\n",
    "from keras.models import Sequential\n",
    "from keras.utils import get_file\n",
    "from keras.initializers import Constant\n",
    "from keras.preprocessing.text import Tokenizer\n",
    "import numpy as np\n",
    "from nltk.corpus import reuters\n",
    "from sklearn.preprocessing import MultiLabelBinarizer\n",
    "\n",
    "MAX_NUM_WORDS = 5000\n",
    "MAX_SEQUENCE_LEN = 500"
   ]
  },
  {
   "cell_type": "code",
   "execution_count": 3,
   "metadata": {},
   "outputs": [
    {
     "data": {
      "text/plain": [
       "[('earn', 3964),\n",
       " ('acq', 2369),\n",
       " ('money-fx', 717),\n",
       " ('grain', 582),\n",
       " ('crude', 578),\n",
       " ('trade', 485),\n",
       " ('interest', 478),\n",
       " ('ship', 286),\n",
       " ('wheat', 283),\n",
       " ('corn', 237)]"
      ]
     },
     "execution_count": 3,
     "metadata": {},
     "output_type": "execute_result"
    }
   ],
   "source": [
    "categs = sorted([(cat, len(reuters.fileids(categories=cat))) for cat in reuters.categories()], key=lambda x: -x[1])\n",
    "categs[:10]"
   ]
  },
  {
   "cell_type": "code",
   "execution_count": 4,
   "metadata": {},
   "outputs": [],
   "source": [
    "top_categories = [cat for cat, _ in categs[2:7]] \n",
    "fileids = reuters.fileids(categories=top_categories)\n",
    "fileids_test = [fid for fid in fileids if fid.startswith(\"test\")]\n",
    "fileids_train = [fid for fid in fileids if fid.startswith(\"train\")]"
   ]
  },
  {
   "cell_type": "code",
   "execution_count": 5,
   "metadata": {},
   "outputs": [
    {
     "name": "stderr",
     "output_type": "stream",
     "text": [
      "/Users/tdiggelm/checkout/total_nn/.py/lib/python3.6/site-packages/sklearn/preprocessing/label.py:935: UserWarning: unknown class(es) ['acq', 'barley', 'bop', 'carcass', 'cocoa', 'coconut-oil', 'coffee', 'copper', 'copra-cake', 'corn', 'cotton', 'cpi', 'dfl', 'dlr', 'dmk', 'earn', 'fuel', 'gas', 'gnp', 'gold', 'groundnut', 'heat', 'hog', 'housing', 'income', 'ipi', 'iron-steel', 'jet', 'jobs', 'lin-oil', 'livestock', 'meal-feed', 'money-supply', 'naphtha', 'nat-gas', 'nkr', 'nzdlr', 'oat', 'oilseed', 'orange', 'palm-oil', 'palmkernel', 'pet-chem', 'potato', 'propane', 'rand', 'rapeseed', 'reserves', 'retail', 'rice', 'rubber', 'rye', 'ship', 'sorghum', 'soy-meal', 'soy-oil', 'soybean', 'sugar', 'sun-oil', 'sunseed', 'tea', 'tin', 'veg-oil', 'wheat', 'wpi', 'yen'] will be ignored\n",
      "  .format(sorted(unknown, key=str)))\n",
      "/Users/tdiggelm/checkout/total_nn/.py/lib/python3.6/site-packages/sklearn/preprocessing/label.py:935: UserWarning: unknown class(es) ['acq', 'barley', 'bop', 'carcass', 'castor-oil', 'coffee', 'copper', 'corn', 'cotton', 'cotton-oil', 'cpi', 'dfl', 'dlr', 'dmk', 'earn', 'fuel', 'gas', 'gnp', 'gold', 'groundnut', 'groundnut-oil', 'heat', 'hog', 'housing', 'income', 'ipi', 'iron-steel', 'jobs', 'lin-oil', 'livestock', 'lumber', 'meal-feed', 'money-supply', 'naphtha', 'nat-gas', 'nkr', 'nzdlr', 'oat', 'oilseed', 'orange', 'pet-chem', 'propane', 'rand', 'rape-oil', 'rapeseed', 'reserves', 'retail', 'rice', 'rubber', 'rye', 'ship', 'silver', 'sorghum', 'soy-meal', 'soy-oil', 'soybean', 'sugar', 'sun-meal', 'sun-oil', 'sunseed', 'tea', 'tin', 'veg-oil', 'wheat', 'wpi', 'yen'] will be ignored\n",
      "  .format(sorted(unknown, key=str)))\n"
     ]
    }
   ],
   "source": [
    "mlb = MultiLabelBinarizer(top_categories)\n",
    "mlb.fit(reuters.categories(fid) for fig in fileids)\n",
    "y_train = mlb.transform(reuters.categories(fid) for fid in fileids_train)\n",
    "y_test = mlb.transform(reuters.categories(fid) for fid in fileids_test)"
   ]
  },
  {
   "cell_type": "code",
   "execution_count": 6,
   "metadata": {},
   "outputs": [],
   "source": [
    "tokenizer = Tokenizer(num_words=MAX_NUM_WORDS)\n",
    "tokenizer.fit_on_texts(reuters.raw(fid) for fid in fileids)\n",
    "X_train = tokenizer.texts_to_sequences(reuters.raw(fid) for fid in fileids_train)\n",
    "X_test = tokenizer.texts_to_sequences(reuters.raw(fid) for fid in fileids_test)"
   ]
  },
  {
   "cell_type": "code",
   "execution_count": 7,
   "metadata": {},
   "outputs": [],
   "source": [
    "X_train = sequence.pad_sequences(X_train, maxlen=MAX_SEQUENCE_LEN)\n",
    "X_test = sequence.pad_sequences(X_test)"
   ]
  },
  {
   "cell_type": "code",
   "execution_count": 8,
   "metadata": {},
   "outputs": [
    {
     "name": "stdout",
     "output_type": "stream",
     "text": [
      "Found 400000 word vectors.\n"
     ]
    }
   ],
   "source": [
    "# get glove coeff matrix\n",
    "embeddings_index = {}\n",
    "fname = get_file(\"glove.6B.100d.txt\", \"http://nlp.stanford.edu/data/glove.6B.zip\", extract=True)\n",
    "with open(fname, encoding=\"utf-8\") as f:\n",
    "    for line in f:\n",
    "        values = line.split()\n",
    "        word = values[0]\n",
    "        coefs = np.asarray(values[1:], dtype='float32')\n",
    "        embeddings_index[word] = coefs\n",
    "print('Found %s word vectors.' % len(embeddings_index))\n",
    "\n",
    "# prepare pre-learned embedding matrix\n",
    "embdedding_dim = 100\n",
    "word_index = tokenizer.word_index\n",
    "num_words = min(MAX_NUM_WORDS, len(word_index)) + 1\n",
    "embedding_matrix = np.zeros((num_words, embdedding_dim))\n",
    "for word, i in word_index.items():\n",
    "    if i > MAX_NUM_WORDS:\n",
    "        continue\n",
    "    embedding_vector = embeddings_index.get(word)\n",
    "    if embedding_vector is not None:\n",
    "        # words not found in embedding index will be all-zeros.\n",
    "        embedding_matrix[i] = embedding_vector\n",
    "        \n",
    "glove_embedding = Embedding(num_words, embdedding_dim,\n",
    "                            embeddings_initializer=Constant(embedding_matrix), trainable=True)"
   ]
  },
  {
   "cell_type": "code",
   "execution_count": 11,
   "metadata": {},
   "outputs": [
    {
     "name": "stdout",
     "output_type": "stream",
     "text": [
      "_________________________________________________________________\n",
      "Layer (type)                 Output Shape              Param #   \n",
      "=================================================================\n",
      "embedding_1 (Embedding)      (None, None, 100)         500100    \n",
      "_________________________________________________________________\n",
      "lstm_4 (LSTM)                (None, None, 32)          17024     \n",
      "_________________________________________________________________\n",
      "lstm_5 (LSTM)                (None, None, 32)          8320      \n",
      "_________________________________________________________________\n",
      "lstm_6 (LSTM)                (None, 32)                8320      \n",
      "_________________________________________________________________\n",
      "fc (Dense)                   (None, 100)               3300      \n",
      "_________________________________________________________________\n",
      "dense_3 (Dense)              (None, 5)                 505       \n",
      "=================================================================\n",
      "Total params: 537,569\n",
      "Trainable params: 537,569\n",
      "Non-trainable params: 0\n",
      "_________________________________________________________________\n",
      "None\n"
     ]
    }
   ],
   "source": [
    "# Build the model \n",
    "model = Sequential()\n",
    "model.add(glove_embedding)\n",
    "model.add(LSTM(32, return_sequences=True))\n",
    "model.add(LSTM(32, return_sequences=True))\n",
    "model.add(LSTM(32))\n",
    "model.add(Dense(100, activation='relu', name='fc')) \n",
    "model.add(Dense(len(top_categories), activation='sigmoid')) \n",
    "model.compile(loss='binary_crossentropy', optimizer='adam', metrics=['accuracy']) \n",
    "print(model.summary())"
   ]
  },
  {
   "cell_type": "code",
   "execution_count": 15,
   "metadata": {},
   "outputs": [
    {
     "name": "stdout",
     "output_type": "stream",
     "text": [
      "Train on 1695 samples, validate on 189 samples\n",
      "Epoch 1/3\n",
      "1695/1695 [==============================] - 101s 59ms/step - loss: 0.5678 - acc: 0.7502 - val_loss: 0.5343 - val_acc: 0.7714\n",
      "Epoch 2/3\n",
      "1695/1695 [==============================] - 99s 59ms/step - loss: 0.5232 - acc: 0.7806 - val_loss: 0.5281 - val_acc: 0.7714\n",
      "Epoch 3/3\n",
      "1695/1695 [==============================] - 100s 59ms/step - loss: 0.4925 - acc: 0.7799 - val_loss: 0.4588 - val_acc: 0.8148\n"
     ]
    },
    {
     "data": {
      "text/plain": [
       "<keras.callbacks.History at 0x1331b15c0>"
      ]
     },
     "execution_count": 15,
     "metadata": {},
     "output_type": "execute_result"
    }
   ],
   "source": [
    "model.fit(X_train, y_train, epochs=3, batch_size=32, validation_split=0.1)"
   ]
  },
  {
   "cell_type": "code",
   "execution_count": 41,
   "metadata": {},
   "outputs": [
    {
     "name": "stdout",
     "output_type": "stream",
     "text": [
      "708/708 [==============================] - 21s 29ms/step\n"
     ]
    },
    {
     "data": {
      "text/plain": [
       "[0.3781221391117505, 0.8248588035335649]"
      ]
     },
     "execution_count": 41,
     "metadata": {},
     "output_type": "execute_result"
    }
   ],
   "source": [
    "model.evaluate(X_test, y_test)"
   ]
  },
  {
   "cell_type": "code",
   "execution_count": 16,
   "metadata": {},
   "outputs": [
    {
     "data": {
      "text/plain": [
       "[(), (), (), (), (), ('money-fx',), (), ('money-fx',), (), ()]"
      ]
     },
     "execution_count": 16,
     "metadata": {},
     "output_type": "execute_result"
    }
   ],
   "source": [
    "mlb.inverse_transform(model.predict(X_test[0:10])>0.5)"
   ]
  },
  {
   "cell_type": "code",
   "execution_count": 17,
   "metadata": {},
   "outputs": [
    {
     "data": {
      "text/plain": [
       "[('trade',),\n",
       " ('grain',),\n",
       " ('crude',),\n",
       " ('grain', 'trade'),\n",
       " ('grain',),\n",
       " ('money-fx', 'interest'),\n",
       " ('grain', 'trade'),\n",
       " ('money-fx', 'interest'),\n",
       " ('trade',),\n",
       " ('trade',)]"
      ]
     },
     "execution_count": 17,
     "metadata": {},
     "output_type": "execute_result"
    }
   ],
   "source": [
    "mlb.inverse_transform(y_test[0:10])"
   ]
  },
  {
   "cell_type": "code",
   "execution_count": 44,
   "metadata": {},
   "outputs": [
    {
     "data": {
      "text/plain": [
       "[\"u k growing with japan thatcher prime minister margaret thatcher said the u k was growing more with japanese trade barriers and warned that it would soon have new powers against countries not offering access to their markets she told parliament that the bid by the u k 's cable and wireless plc lt l to enter the japanese telecommunications market was being regarded by her government as a test case i to the prime minister of japan mr nakasone on the fourth of march to our interest on the cable and wireless bid i have not yet had a reply we see this as a test on how open the japanese market really is thatcher said thatcher told parliament that shortly we shall have more powers than we have now when for example the powers under the financial services act and the banking act become available then we shall be able to take action in cases where other countries do not offer the same full access to financial services as we do cable and wireless is seeking a stake in the proposed japanese telecommunications to but the japanese minister for post and telecommunications was reported as saying that he opposed cable and wireless having a role in the new company\"]"
      ]
     },
     "execution_count": 44,
     "metadata": {},
     "output_type": "execute_result"
    }
   ],
   "source": [
    "tokenizer.sequences_to_texts(X_train[0:1])"
   ]
  },
  {
   "cell_type": "code",
   "execution_count": null,
   "metadata": {},
   "outputs": [],
   "source": [
    "from keras.models import Model\n",
    "model_vec = Model(model.input, model.get_layer(name=\"fc\").output)\n",
    "vecs = model_vec.predict(X_test)\n",
    "\n",
    "from sklearn.preprocessing import normalize\n",
    "vecs_norm = normalize(vecs)"
   ]
  },
  {
   "cell_type": "code",
   "execution_count": 27,
   "metadata": {},
   "outputs": [
    {
     "name": "stdout",
     "output_type": "stream",
     "text": [
      "[('trade',), ('money-fx',), ('interest',), ('money-fx',), ('money-fx',)]\n",
      "['canada february trade surplus 1 25 billion dlrs after january 623 mln dlrs surplus canada february trade surplus 1 25 billion dlrs after january 623 mln dlrs surplus', \"france's balladur says target zone nearer french finance minister edouard balladur said that the financial community is closer to at a system of target zones for currencies despite the fact that little is being said about them speaking with reporters at the meetings of the international monetary fund balladur said we are not very far from the of target zones even if we don't say so he told reporters that our ideas are progressing adding that the finance ministers have been talking about more cooperation on economic policies and on levels around which currencies should stabilize\", \"u k reserves lift hopes of further base rate cut the record 4 9 billion dlrs rise in u k reserves in may to a total 34 7 billion has lifted hopes for a further cut in bank base lending rates after the june 11 general election market analysts said sterling would have risen on the much better than expected number but for market about the poll outcome they said but the weight of foreign currency and gold reserves now available to the authorities to support the pound should curb any market to panic if u k opinion show the ruling conservative lead they added we have been intervening to a very much greater extent than we have done chancellor of the exchequer nigel lawson said at a news conference today commenting on the news of the record reserves rise he put the u k intervention in the context of the louvre accord between leading industrial nations to stabilise the dollar partly through direct intervention on foreign exchanges we have been playing a very full part ourselves he said but market analysts see the recent upward pressure on sterling and need for official sales to down its rise more in the light of local factors chief economist at morgan securities said that corporate money has been flowing back into britain amid hopes of another conservative government after fears last autumn of a labour election victory sent it flooding out u k portfolio investment is also returning while foreign buyers see u k growth and high bond yields as attractive they will be strong buyers of u k assets notably equities once the election is out of the way said analysts see this pressure as the main hope for lower interest rates as the government is expected to try to reverse the loss of export competitiveness caused by a strong pound today however the pound hardly moved on the reserves news on its trade weighted index against a basket of currencies from 73 1 pct of its 1975 value at gmt to 73 0 pct at gmt half an hour after the figures were released the market doesn't want to do anything because of the election commented an economist at a big u s investment bank several dealers and analysts added that market forecasts of a rise in reserves of between one and three billion dlrs had the amount of pound sales that were likely to have been by swap arrangements or transactions on the forward market the market also seemed to have the amount of sterling the bank of england bought at the end of may to smooth the pound's sudden downturn while some of the intervention reported in may probably occurred in april they said the key three months interbank money market rates eased about 1 8 point reflecting cautious hopes that the in u k interest rates will be following the reserves news analysts said government bond prices initially firmed but the market was as traders worried about the funding implications of another huge rise in reserves they added morgan forecast a half point base rate cut from the current nine pct level soon after the election so long as poll projections of another conservative victory prove accurate with another half point later equity economist at credit suisse and moore said a full point reduction might be possible sterling will be held down by interest rate cuts in future rather than this active intervention he predicted of gilt edged cautioned against over optimistic forecasts but agreed a half point cut looked likely a cut before the election has been virtually ruled out the bank of england is both worried about the political problem of cutting rates during an election campaign and has signalled some worry about broad money growth said marshall chief u k economist at chase manhattan securities he said the 10 billion dlrs increase in total reserves in the past seven months may full u k entry into the european monetary system but said the authorities would like to see another 10 or 15 billion dlrs in the reserves before joining if they did so but unlike many analysts he doubted the u k will go in\", \"poehl looks set for eight more years at bundesbank for currency dealers karl otto poehl is the of speculators for bankers he is the man who has played a key role in the world's financial for the last seven years and for germans he is the of the mark president of the powerful and independent west german central bank the bundesbank poehl is likely to have his contract renewed for another eight years when it expires at the end of this year government officials say index of economic see but no official announcement has yet been made raising in west germany's business community the poehl spent seven years in bonn in top ministerial posts under the social democrats now in opposition before he moved to the bundesbank there has been speculation that chancellor helmut kohl would try to replace poehl with a man closer to his own christian democrats but officials noted that poehl has worked closely and successfully with finance minister gerhard stoltenberg since government took office in 1982 poehl the most senior central banker apart from paul volcker of the united states a strong international which it would take a years to build up given these circumstances kohl will probably poehl's past as an adviser to former social democrat chancellor willy and top aide to helmut when he was finance minister bankers said it was who as chancellor appointed poehl to his present job in 1980 in recent months with the strong rise against the dollar poehl has made exchange rates the central concern of the bundesbank's council a highly conservative institution which has pursued monetary policies to prevent inflation hold germans can two of inflation this century but with consumer prices falling for much of 1986 and inflation so far this year poehl thinks it is to the monetary a little and concentrate on the dangers to the german economy of a exchange rate i am of the opinion that efforts to stabilise the dollar mark rate have reached a high priority also for the bundesbank because a further massive revaluation of the mark would the economy in west germany he told business journalists in frankfurt recently head of research at citibank ag says that poehl's would guarantee flexible monetary policy poehl's policy has always been a policy which does not focus so on domestic factors but also on the external economy she said an economist at a german bank who declined to be identified said if poehl is confirmed in his post it will certainly be a plus for the course which is not so oriented towards money supply one of poehl's great recently has been to persuade the united states to stop talking down the dollar for poehl the significance of the february louvre accord was that the united states agreed to join efforts to stabilise currencies the louvre accord was with by currency dealers who said they would soon put it to the test but in fact the dollar has been relatively stable since the pact this is because the markets know or perhaps because they don't know what the central banks can do poehl says of intervention in currency markets which can quickly turn rates round making a position poehl was in and worked as a financial in the before starting his ministerial a sun figure who over a of he is hardly a central banker he is also a keen who to watch and play poehl says currency market intervention cannot for correct economic policies if exchange rates are but you can achieve an enormous effect with a small amount if you strike at the right moment he said bundesbank dealers are very and they've the of many people he said and unlike the speculators poehl notes the bundesbank dealers usually make a profit\", 'stoltenberg cooperation will continue the west german government that the commitment to international monetary cooperation which was renewed in washington last month will continue a finance ministry spokesman quoted finance minister gerhard stoltenberg as saying statement was a reaction to criticism of rises in west german interest rates voiced by u s treasury secretary james baker over the weekend']\n"
     ]
    }
   ],
   "source": [
    "search_text = \"trade issues ec's with japan member states of the european community are starting to run out\"\n",
    "\n",
    "search_text_vec = model_vec.predict(sequence.pad_sequences(tokenizer.texts_to_sequences([search_text])))\n",
    "search_text_vec = normalize(search_text_vec)\n",
    "\n",
    "sorted_indices = np.argsort(-search_text_vec[0].dot(vecs_norm.T))\n",
    "print(mlb.inverse_transform(y_test[sorted_indices[:5]]))\n",
    "print(tokenizer.sequences_to_texts(X_test[sorted_indices[:5]]))"
   ]
  },
  {
   "cell_type": "code",
   "execution_count": 20,
   "metadata": {},
   "outputs": [
    {
     "name": "stdout",
     "output_type": "stream",
     "text": [
      "[('trade',)]\n",
      "[\"asian exporters fear damage from u s japan mounting trade friction between the u s and japan has raised fears among many of exporting nations that the row could far reaching economic damage businessmen and officials said they told reuter in asian a u s move against japan might boost protectionist sentiment in the u s and lead to curbs on american imports of their products but some exporters said that while the conflict would hurt them in the long run in the short term tokyo's loss might be their gain the u s has said it will impose 300 mln dlrs of tariffs on imports of japanese electronics goods on april 17 in retaliation for japan's alleged failure to stick to a pact not to sell semiconductors on world markets at below cost unofficial japanese estimates put the impact of the tariffs at 10 billion dlrs and spokesmen for major electronics firms said they would virtually halt exports of products hit by the new taxes we be able to do business said a spokesman for leading japanese electronics firm electric industrial co ltd lt t if the tariffs remain in place for any of time beyond a few months it will mean the complete erosion of exports of goods subject to tariffs to the u s said tom a stock analyst at the tokyo office of broker lt james capel and co in taiwan businessmen and officials are also worried we are aware of the of the u s threat against japan because it as a warning to us said a senior taiwanese trade official who asked not to be named taiwan had a trade trade surplus of 15 6 billion dlrs last year 95 pct of it with the u s the surplus helped taiwan's foreign exchange reserves to 53 billion dlrs among the world's largest we must quickly open our markets remove trade barriers and cut import tariffs to allow imports of u s products if we want to defuse problems from possible u s retaliation said paul chairman of textile exporters lt taiwan group a senior official of south korea's trade promotion association said the trade dispute between the u s and japan might also lead to pressure on south korea whose chief exports are similar to those of japan last year south korea had a trade surplus of 7 1 billion dlrs with the u s up from 4 9 billion dlrs in 1985 in malaysia trade and businessmen said tough curbs against japan might allow hard hit producers of semiconductors in third countries to expand their sales to the u s in hong kong where newspapers have alleged japan has been selling below cost semiconductors some electronics manufacturers share that view but other businessmen said such a short term commercial advantage would be by further u s pressure to block imports that is a very short term view said lawrence mills director general of the federation of hong kong industry if the whole purpose is to prevent imports one day it will be extended to other sources much more serious for hong kong is the of action trade he said the u s last year was hong biggest export market accounting for over 30 pct of domestically produced exports the australian government is awaiting the outcome of trade talks between the u s and japan with interest and concern industry minister john said in last friday this kind of deterioration in trade relations between two countries which are major trading partners of is a very serious matter said he said australia's concerns on coal and beef australia's two largest exports to japan and also significant u s exports to that country meanwhile u s japanese diplomatic to solve the trade stand off continue japan's ruling liberal democratic party yesterday outlined a package of economic measures to boost the japanese economy the measures proposed include a large budget and record public works spending in the first half of the financial year they also call for stepped up spending as an emergency measure to stimulate the economy despite prime minister yasuhiro nakasone's fiscal reform program deputy u s trade representative michael smith and kuroda japan's deputy minister of international trade and industry miti are due to meet in washington this week in an effort to end the dispute\"]\n",
      "[('trade',), ('trade',), ('money-fx', 'interest'), ('crude',), ('grain',)]\n",
      "[\"asian exporters fear damage from u s japan mounting trade friction between the u s and japan has raised fears among many of exporting nations that the row could far reaching economic damage businessmen and officials said they told reuter in asian a u s move against japan might boost protectionist sentiment in the u s and lead to curbs on american imports of their products but some exporters said that while the conflict would hurt them in the long run in the short term tokyo's loss might be their gain the u s has said it will impose 300 mln dlrs of tariffs on imports of japanese electronics goods on april 17 in retaliation for japan's alleged failure to stick to a pact not to sell semiconductors on world markets at below cost unofficial japanese estimates put the impact of the tariffs at 10 billion dlrs and spokesmen for major electronics firms said they would virtually halt exports of products hit by the new taxes we be able to do business said a spokesman for leading japanese electronics firm electric industrial co ltd lt t if the tariffs remain in place for any of time beyond a few months it will mean the complete erosion of exports of goods subject to tariffs to the u s said tom a stock analyst at the tokyo office of broker lt james capel and co in taiwan businessmen and officials are also worried we are aware of the of the u s threat against japan because it as a warning to us said a senior taiwanese trade official who asked not to be named taiwan had a trade trade surplus of 15 6 billion dlrs last year 95 pct of it with the u s the surplus helped taiwan's foreign exchange reserves to 53 billion dlrs among the world's largest we must quickly open our markets remove trade barriers and cut import tariffs to allow imports of u s products if we want to defuse problems from possible u s retaliation said paul chairman of textile exporters lt taiwan group a senior official of south korea's trade promotion association said the trade dispute between the u s and japan might also lead to pressure on south korea whose chief exports are similar to those of japan last year south korea had a trade surplus of 7 1 billion dlrs with the u s up from 4 9 billion dlrs in 1985 in malaysia trade and businessmen said tough curbs against japan might allow hard hit producers of semiconductors in third countries to expand their sales to the u s in hong kong where newspapers have alleged japan has been selling below cost semiconductors some electronics manufacturers share that view but other businessmen said such a short term commercial advantage would be by further u s pressure to block imports that is a very short term view said lawrence mills director general of the federation of hong kong industry if the whole purpose is to prevent imports one day it will be extended to other sources much more serious for hong kong is the of action trade he said the u s last year was hong biggest export market accounting for over 30 pct of domestically produced exports the australian government is awaiting the outcome of trade talks between the u s and japan with interest and concern industry minister john said in last friday this kind of deterioration in trade relations between two countries which are major trading partners of is a very serious matter said he said australia's concerns on coal and beef australia's two largest exports to japan and also significant u s exports to that country meanwhile u s japanese diplomatic to solve the trade stand off continue japan's ruling liberal democratic party yesterday outlined a package of economic measures to boost the japanese economy the measures proposed include a large budget and record public works spending in the first half of the financial year they also call for stepped up spending as an emergency measure to stimulate the economy despite prime minister yasuhiro nakasone's fiscal reform program deputy u s trade representative michael smith and kuroda japan's deputy minister of international trade and industry miti are due to meet in washington this week in an effort to end the dispute\", \"n z april current account deficit narrows new zealand's current account deficit narrowed to 76 mln n z dlrs in april from a revised 89 mln dlrs in march and 224 mln dlrs in april 1986 in a smoothed seasonally adjusted the statistics department said the march figure was revised from 69 mln dlrs the department said in a statement seasonally adjusted but non smoothed figures showed a deficit of 99 mln dlrs against 76 mln dlrs in march and 230 mln dlrs in april 1986 totally figures show a deficit of 83 mln dlrs against 164 mln dlrs in march revised from 178 mln dlrs and compared with mln in april 1986 the smoothed seasonally adjusted series shows a surplus on merchandise trade of 145 mln dlrs against 135 mln dlrs in march and 30 mln dlrs in april 1986 seasonally adjusted but non smoothed figures show a merchandise trade surplus of 132 mln dlrs against a 148 mln dlr surplus in march and a 14 mln dlr surplus in april 1986 merchandise figures show a surplus of 151 mln dlrs against a 5 0 mln dlr revised from 10 mln dlr deficit in march and a 31 mln dlr deficit in march 1986 the smoothed seasonally adjusted deficit on invisibles was mln n z dlrs against mln dlrs in march and 255 in april 1986 the seasonally adjusted but non smoothed deficit on invisibles was 240 mln dlrs against mln dlrs in march and 245 mln dlrs in april 1986 the deficit on invisibles was mln dlrs against 158 mln dlrs revised from 168 mln dlrs in march and mln dlrs in april 1986 seasonally adjusted export and import figures were not available the department said these figures show a continuing improvement in the current account deficit caused mainly by an improvement in the balance on merchandise trade which has now being in surplus since november 1985\", \"treasury's baker under fire for wall street drop as official washington sought to restore investor confidence after monday's wall street collapse treasury secretary james baker came under fire from critics who he helped to the crisis baker's weekend at the west german bundesbank for boosting interest rates seemed to signal an of an international accord to stabilize currency values nigel lawson british chancellor of the exchequer was among those who said the treasury statements helped spur a wave of stock sales by making already investors think that a clash between the two major economic powers would damage the world economy lawson told a london television tuesday i think the scale of the stock fall was very great that i think was partly due to statements that have been made by senior figures on the other side of the atlantic it was a dispute that should never have happened he added although baker appeared to over the at a called meeting with west german officials monday he still faced a of criticism on his return to the united states on tuesday baker cut short a long planned trip to to return here to deal with the economic crisis said one u s analyst of baker's weekend remarks his timing could not have been worse one government bond in new york said he actually thought that at the germans and threatening to the dollar down would work that doesn't show much understanding of international monetary however some analysts said west germany's march toward higher interest rates may have forced baker's hand on the baker may look responsible for this but if you go back to see what caused it of financial markets it was west german policy said robert brusca of nikko securities international in new york all mr baker did was to mention the obvious in public so making him responsible for it was a little like the he said after monday's talks the u s and west german governments made it clear that the louvre currency accord together in paris in february was still in effect wall street feared that collapse of the agreement might be a to inflation and economic similar to the late 1970s analysts believe monday's wall street crash out about 500 billion dlrs in stock values treasury sources said that baker already about to stimulate its economy in order to keep the global recovery moving was angered by a bundesbank interest rate boost that seemed to do just the he felt that the u s recovery along in its month could no longer be the only of global economic expansion a growing u s economy has been as a huge market for debtor country exports moreover baker the was worried that the republican party might face next year's presidential election with its main a economy badly a rise in global interest rates might worsen the debt crisis and completely choke off u s economic growth that has already slowed to a 3 2 pct annual rate there's no doubt that it can have an adverse effect on the economy and it's important that the turn around quickly or else the panic will feed on itself and eventually be a serious price to pay economically former deputy treasury secretary richard darman said in a television interview in many ways the official response was mild washington was by the sudden wall street retreat with president reagan speaking for most people by that he was u s government sources said the secretary immediately returned to the treasury to be on market developments and their political impact for all of this it seems unlikely that baker's status in washington will because of the market fall asked by reporters if head should roll because of the wall street retreat texas democratic senator lloyd bentsen said with some i think it's much too late to be doing that you have an administration that's taken the attitude that we can put the country on pilot and to the living room to take a you just can't do that\", 'indonesia says it will extend oil contracts indonesia told the oil industry on tuesday it will extend contracts on producing blocks and improve the investment climate but wants to see increased expenditure on exploration in return president suharto in an opening speech to the indonesian petroleum association said indonesia was ready to extend contracts held by foreign oil companies on producing areas in order to boost investment in the petroleum industry the government of indonesia has basically approved of extending production sharing contracts under the present laws suharto said apart from that the government will keep improving the investment climate in order to accelerate the development of the petroleum industry he said indonesian energy minister subroto told the association he was aware that the oil industry needed to be assured that contracts on blocks within the next 10 years would be renewed before they would invest in further exploration as we all have heard this morning the president is fully aware of this situation subroto said the government has already made the political decision to this time problem by the existing producers to continue their activities in indonesia on a selective basis indonesia one of the 13 members of opec must find new oil reserves if it is to remain an exporter in the next decade oil industry sources say subroto said the government was also working to ease other problems including easier terms for areas or deep water conditions but subroto said relations with oil companies were two way and that they should step up expenditure on oil exploration now that the oil price had recovered president suharto said he wanted to see greater transfer of technology to indonesian companies and more help from the oil industry for the regions in which companies operated abdul the president of state oil company pertamina has said that exploration and production expenditure for all oil companies in indonesia was forecast to fall to 3 1 billion dlrs in calendar 1987 from 3 4 billion in 1986 pertamina has 69 production sharing or joint operation contracts with foreign oil companies subroto said up necessary for field operations was a government priority there had been between the government and the oil industry in certain areas such as when a field is commercial and a evaluation was being made he said the government wanted to contract as soon as and urged the industry in the to maintain its exploration drive subroto said indonesia needed the companies to maintain exploration efforts even if their contract was due to expire within 10 years this need in itself is some sort of guarantee that we will soon have to come up with an extension agreement eleven major contract areas are due to come up for renewal between 1991 and industry sources said extension of the contracts on the blocks has involved detailed negotiations but so far no extension has been granted subroto told reporters that contract would be selective based on how much capital would be invested', 'bangladesh navy grains during port strike the navy is at port following a strike by nearly 1 000 bangladesh shipping corp officials said the navy was 74 000 tonnes of from two ships today and four vessels with some 90 000 tonnes of grains were waiting at the port officials said a spokesman for the workers said they would continue their strike until authorities agree to their demands for higher pay and other benefits the strike began on june 11 of grains and other essential commodities started normally after we called in navy personnel to help a port official told reuters the strike has caused no serious he said the government meanwhile declared the port jobs an essential service and said the could be dismissed unless they end the strike soon']\n"
     ]
    }
   ],
   "source": [
    "sorted_indices = np.argsort(-vecs_norm[0].dot(vecs_norm.T))\n",
    "print(mlb.inverse_transform(y_test[0:1]))\n",
    "print(tokenizer.sequences_to_texts(X_test[0:1]))\n",
    "\n",
    "print(mlb.inverse_transform(y_test[sorted_indices[:5]]))\n",
    "print(tokenizer.sequences_to_texts(X_test[sorted_indices[:5]]))"
   ]
  },
  {
   "cell_type": "code",
   "execution_count": null,
   "metadata": {},
   "outputs": [],
   "source": []
  }
 ],
 "metadata": {
  "kernelspec": {
   "display_name": "Python 3",
   "language": "python",
   "name": "python3"
  },
  "language_info": {
   "codemirror_mode": {
    "name": "ipython",
    "version": 3
   },
   "file_extension": ".py",
   "mimetype": "text/x-python",
   "name": "python",
   "nbconvert_exporter": "python",
   "pygments_lexer": "ipython3",
   "version": "3.6.4"
  }
 },
 "nbformat": 4,
 "nbformat_minor": 2
}
