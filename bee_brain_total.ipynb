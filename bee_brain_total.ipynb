{
 "cells": [
  {
   "cell_type": "code",
   "execution_count": 77,
   "metadata": {},
   "outputs": [],
   "source": [
    "from keras.models import Sequential\n",
    "from keras.layers import Dense, Activation\n",
    "import numpy as np"
   ]
  },
  {
   "cell_type": "code",
   "execution_count": 106,
   "metadata": {},
   "outputs": [],
   "source": [
    "model = Sequential()\n",
    "# use only 4 (linear) neurons\n",
    "model.add(Dense(4, activation='linear', input_dim=2))\n",
    "model.add(Dense(1))\n",
    "model.compile(optimizer='adam',\n",
    "              loss='mse',\n",
    "              metrics=['accuracy'])"
   ]
  },
  {
   "cell_type": "code",
   "execution_count": 107,
   "metadata": {},
   "outputs": [],
   "source": [
    "X_train = np.random.randint(-100, 100, size=(1000, 2))\n",
    "y_train = np.sum(X_train, axis=1)"
   ]
  },
  {
   "cell_type": "code",
   "execution_count": 108,
   "metadata": {},
   "outputs": [
    {
     "name": "stdout",
     "output_type": "stream",
     "text": [
      "Epoch 1/20\n",
      "1000/1000 [==============================] - 1s 559us/step - loss: 1645.0199 - acc: 0.0150\n",
      "Epoch 2/20\n",
      "1000/1000 [==============================] - 0s 67us/step - loss: 985.6707 - acc: 0.0120\n",
      "Epoch 3/20\n",
      "1000/1000 [==============================] - 0s 70us/step - loss: 560.0571 - acc: 0.0120\n",
      "Epoch 4/20\n",
      "1000/1000 [==============================] - 0s 86us/step - loss: 300.6821 - acc: 0.0170\n",
      "Epoch 5/20\n",
      "1000/1000 [==============================] - 0s 79us/step - loss: 152.4811 - acc: 0.0120\n",
      "Epoch 6/20\n",
      "1000/1000 [==============================] - 0s 78us/step - loss: 73.7412 - acc: 0.0230\n",
      "Epoch 7/20\n",
      "1000/1000 [==============================] - 0s 105us/step - loss: 33.3400 - acc: 0.0390\n",
      "Epoch 8/20\n",
      "1000/1000 [==============================] - 0s 95us/step - loss: 14.2611 - acc: 0.0700\n",
      "Epoch 9/20\n",
      "1000/1000 [==============================] - 0s 107us/step - loss: 5.8388 - acc: 0.1150\n",
      "Epoch 10/20\n",
      "1000/1000 [==============================] - 0s 96us/step - loss: 2.2022 - acc: 0.2070\n",
      "Epoch 11/20\n",
      "1000/1000 [==============================] - 0s 98us/step - loss: 0.7726 - acc: 0.3490\n",
      "Epoch 12/20\n",
      "1000/1000 [==============================] - 0s 88us/step - loss: 0.2613 - acc: 0.6370\n",
      "Epoch 13/20\n",
      "1000/1000 [==============================] - 0s 75us/step - loss: 0.0828 - acc: 0.9180\n",
      "Epoch 14/20\n",
      "1000/1000 [==============================] - 0s 72us/step - loss: 0.0274 - acc: 1.0000\n",
      "Epoch 15/20\n",
      "1000/1000 [==============================] - 0s 82us/step - loss: 0.0117 - acc: 1.0000\n",
      "Epoch 16/20\n",
      "1000/1000 [==============================] - 0s 87us/step - loss: 0.0070 - acc: 1.0000\n",
      "Epoch 17/20\n",
      "1000/1000 [==============================] - 0s 88us/step - loss: 0.0055 - acc: 1.0000\n",
      "Epoch 18/20\n",
      "1000/1000 [==============================] - 0s 98us/step - loss: 0.0048 - acc: 1.0000\n",
      "Epoch 19/20\n",
      "1000/1000 [==============================] - 0s 97us/step - loss: 0.0044 - acc: 1.0000\n",
      "Epoch 20/20\n",
      "1000/1000 [==============================] - 0s 116us/step - loss: 0.0039 - acc: 1.0000\n"
     ]
    },
    {
     "data": {
      "text/plain": [
       "<keras.callbacks.History at 0x12cd5fb38>"
      ]
     },
     "execution_count": 108,
     "metadata": {},
     "output_type": "execute_result"
    }
   ],
   "source": [
    "model.fit(X_train, y_train, epochs=20, batch_size=32)"
   ]
  },
  {
   "cell_type": "code",
   "execution_count": 109,
   "metadata": {},
   "outputs": [],
   "source": [
    "X_test = np.random.randint(-100, 100, size=(1000, 2))\n",
    "y_test = np.sum(X_test, axis=1)"
   ]
  },
  {
   "cell_type": "code",
   "execution_count": 110,
   "metadata": {},
   "outputs": [
    {
     "name": "stdout",
     "output_type": "stream",
     "text": [
      "1000/1000 [==============================] - 0s 179us/step\n"
     ]
    },
    {
     "data": {
      "text/plain": [
       "[0.0037461308613419534, 1.0]"
      ]
     },
     "execution_count": 110,
     "metadata": {},
     "output_type": "execute_result"
    }
   ],
   "source": [
    "model.evaluate(X_test, y_test)"
   ]
  },
  {
   "cell_type": "code",
   "execution_count": 111,
   "metadata": {},
   "outputs": [],
   "source": [
    "def nnsum(n1, n2):\n",
    "    return model.predict(np.array([[n1, n2]]))[0,0].round().astype('int')"
   ]
  },
  {
   "cell_type": "code",
   "execution_count": 131,
   "metadata": {},
   "outputs": [
    {
     "data": {
      "text/plain": [
       "3"
      ]
     },
     "execution_count": 131,
     "metadata": {},
     "output_type": "execute_result"
    }
   ],
   "source": [
    "nnsum(1, 2)"
   ]
  },
  {
   "cell_type": "code",
   "execution_count": 132,
   "metadata": {},
   "outputs": [
    {
     "data": {
      "text/plain": [
       "0"
      ]
     },
     "execution_count": 132,
     "metadata": {},
     "output_type": "execute_result"
    }
   ],
   "source": [
    "nnsum(-1, 1)"
   ]
  },
  {
   "cell_type": "code",
   "execution_count": 133,
   "metadata": {},
   "outputs": [
    {
     "data": {
      "text/plain": [
       "468"
      ]
     },
     "execution_count": 133,
     "metadata": {},
     "output_type": "execute_result"
    }
   ],
   "source": [
    "nnsum(123, 345)"
   ]
  },
  {
   "cell_type": "code",
   "execution_count": null,
   "metadata": {},
   "outputs": [],
   "source": []
  }
 ],
 "metadata": {
  "kernelspec": {
   "display_name": "Python 3",
   "language": "python",
   "name": "python3"
  },
  "language_info": {
   "codemirror_mode": {
    "name": "ipython",
    "version": 3
   },
   "file_extension": ".py",
   "mimetype": "text/x-python",
   "name": "python",
   "nbconvert_exporter": "python",
   "pygments_lexer": "ipython3",
   "version": "3.6.4"
  }
 },
 "nbformat": 4,
 "nbformat_minor": 2
}
