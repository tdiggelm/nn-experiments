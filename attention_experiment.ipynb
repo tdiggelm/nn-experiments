{
  "nbformat": 4,
  "nbformat_minor": 0,
  "metadata": {
    "colab": {
      "name": "attention_experiment.ipynb",
      "version": "0.3.2",
      "provenance": [],
      "collapsed_sections": [],
      "include_colab_link": true
    },
    "kernelspec": {
      "name": "python3",
      "display_name": "Python 3"
    },
    "accelerator": "GPU"
  },
  "cells": [
    {
      "cell_type": "markdown",
      "metadata": {
        "id": "view-in-github",
        "colab_type": "text"
      },
      "source": [
        "<a href=\"https://colab.research.google.com/github/tdiggelm/nn-experiments/blob/master/attention_experiment.ipynb\" target=\"_parent\"><img src=\"https://colab.research.google.com/assets/colab-badge.svg\" alt=\"Open In Colab\"/></a>"
      ]
    },
    {
      "metadata": {
        "id": "JFOdq4GmZdbm",
        "colab_type": "code",
        "outputId": "a3d161d5-90fa-4350-8f79-0245a3599ea0",
        "colab": {
          "base_uri": "https://localhost:8080/",
          "height": 34
        }
      },
      "cell_type": "code",
      "source": [
        "from keras import layers, models\n",
        "import numpy as np\n",
        "from sklearn.model_selection import train_test_split\n",
        "import pandas as pd"
      ],
      "execution_count": 1,
      "outputs": [
        {
          "output_type": "stream",
          "text": [
            "Using TensorFlow backend.\n"
          ],
          "name": "stderr"
        }
      ]
    },
    {
      "metadata": {
        "id": "KYx-3zRuZk3k",
        "colab_type": "code",
        "colab": {}
      },
      "cell_type": "code",
      "source": [
        "n_samples = 5000\n",
        "numbers = np.random.normal(0, 1, (n_samples, 3))\n",
        "totals = np.sum(numbers, axis=1)\n",
        "labels = np.array(totals > 0, dtype='int32')\n",
        "noise = np.random.normal(0, 1, (n_samples, 10))\n",
        "data = np.concatenate([numbers, noise], axis=1)\n",
        "index = np.arange(data.shape[1])\n",
        "np.random.shuffle(index)\n",
        "rev_index = np.zeros_like(index)\n",
        "for i, pos in enumerate(index):\n",
        "  rev_index[pos] = i\n",
        "data = data[:, index]\n",
        "\n",
        "X_train, X_test, y_train, y_test = train_test_split(data, labels,\n",
        "                                                    shuffle=False)"
      ],
      "execution_count": 0,
      "outputs": []
    },
    {
      "metadata": {
        "id": "IaJdJfUiaDPm",
        "colab_type": "code",
        "outputId": "c911e739-e389-4b55-b21d-6fdb40717e5b",
        "colab": {
          "base_uri": "https://localhost:8080/",
          "height": 459
        }
      },
      "cell_type": "code",
      "source": [
        "USE_ATTENTION = True\n",
        "inputs = layers.Input(shape=(data.shape[1],))\n",
        "x = inputs\n",
        "if USE_ATTENTION:\n",
        "  attention_dense = layers.Dense(1024)(inputs)\n",
        "  attention_dense = layers.Activation('relu')(attention_dense)\n",
        "  attention_dense = layers.Dropout(0.5)(attention_dense)\n",
        "  attention_probs = layers.Dense(data.shape[1], activation='softmax',\n",
        "                                 name='attention_probs')(attention_dense)\n",
        "  x = layers.Multiply()([inputs, attention_probs])\n",
        "x = layers.Dense(1024, activation='relu')(x)\n",
        "x = layers.Dropout(0.5)(x)\n",
        "x = layers.Dense(1, activation='sigmoid')(x)\n",
        "model = models.Model(inputs, x)\n",
        "model.compile(optimizer='adam', loss='binary_crossentropy',\n",
        "              metrics=['accuracy'])\n",
        "model.summary()"
      ],
      "execution_count": 3,
      "outputs": [
        {
          "output_type": "stream",
          "text": [
            "__________________________________________________________________________________________________\n",
            "Layer (type)                    Output Shape         Param #     Connected to                     \n",
            "==================================================================================================\n",
            "input_1 (InputLayer)            (None, 13)           0                                            \n",
            "__________________________________________________________________________________________________\n",
            "dense_1 (Dense)                 (None, 1024)         14336       input_1[0][0]                    \n",
            "__________________________________________________________________________________________________\n",
            "activation_1 (Activation)       (None, 1024)         0           dense_1[0][0]                    \n",
            "__________________________________________________________________________________________________\n",
            "dropout_1 (Dropout)             (None, 1024)         0           activation_1[0][0]               \n",
            "__________________________________________________________________________________________________\n",
            "attention_probs (Dense)         (None, 13)           13325       dropout_1[0][0]                  \n",
            "__________________________________________________________________________________________________\n",
            "multiply_1 (Multiply)           (None, 13)           0           input_1[0][0]                    \n",
            "                                                                 attention_probs[0][0]            \n",
            "__________________________________________________________________________________________________\n",
            "dense_2 (Dense)                 (None, 1024)         14336       multiply_1[0][0]                 \n",
            "__________________________________________________________________________________________________\n",
            "dropout_2 (Dropout)             (None, 1024)         0           dense_2[0][0]                    \n",
            "__________________________________________________________________________________________________\n",
            "dense_3 (Dense)                 (None, 1)            1025        dropout_2[0][0]                  \n",
            "==================================================================================================\n",
            "Total params: 43,022\n",
            "Trainable params: 43,022\n",
            "Non-trainable params: 0\n",
            "__________________________________________________________________________________________________\n"
          ],
          "name": "stdout"
        }
      ]
    },
    {
      "metadata": {
        "id": "T_LxDOCyaY1F",
        "colab_type": "code",
        "outputId": "adaa4f31-8700-42a3-b421-656bc8cdc4e2",
        "colab": {
          "base_uri": "https://localhost:8080/",
          "height": 646
        }
      },
      "cell_type": "code",
      "source": [
        "history = model.fit(X_train, y_train, validation_data=(X_test, y_test),\n",
        "                    epochs=18, verbose=1, shuffle=True)"
      ],
      "execution_count": 4,
      "outputs": [
        {
          "output_type": "stream",
          "text": [
            "Train on 3750 samples, validate on 1250 samples\n",
            "Epoch 1/18\n",
            "3750/3750 [==============================] - 2s 462us/step - loss: 0.3495 - acc: 0.8864 - val_loss: 0.1260 - val_acc: 0.9672\n",
            "Epoch 2/18\n",
            "3750/3750 [==============================] - 1s 199us/step - loss: 0.1231 - acc: 0.9600 - val_loss: 0.0875 - val_acc: 0.9736\n",
            "Epoch 3/18\n",
            "3750/3750 [==============================] - 1s 207us/step - loss: 0.1065 - acc: 0.9624 - val_loss: 0.1260 - val_acc: 0.9520\n",
            "Epoch 4/18\n",
            "3750/3750 [==============================] - 1s 209us/step - loss: 0.0944 - acc: 0.9643 - val_loss: 0.0921 - val_acc: 0.9608\n",
            "Epoch 5/18\n",
            "3750/3750 [==============================] - 1s 204us/step - loss: 0.0831 - acc: 0.9715 - val_loss: 0.1018 - val_acc: 0.9600\n",
            "Epoch 6/18\n",
            "3750/3750 [==============================] - 1s 200us/step - loss: 0.0856 - acc: 0.9693 - val_loss: 0.0707 - val_acc: 0.9744\n",
            "Epoch 7/18\n",
            "3750/3750 [==============================] - 1s 203us/step - loss: 0.0743 - acc: 0.9736 - val_loss: 0.0671 - val_acc: 0.9752\n",
            "Epoch 8/18\n",
            "3750/3750 [==============================] - 1s 203us/step - loss: 0.0714 - acc: 0.9757 - val_loss: 0.1001 - val_acc: 0.9632\n",
            "Epoch 9/18\n",
            "3750/3750 [==============================] - 1s 198us/step - loss: 0.0720 - acc: 0.9749 - val_loss: 0.0758 - val_acc: 0.9752\n",
            "Epoch 10/18\n",
            "3750/3750 [==============================] - 1s 204us/step - loss: 0.0625 - acc: 0.9781 - val_loss: 0.0728 - val_acc: 0.9712\n",
            "Epoch 11/18\n",
            "3750/3750 [==============================] - 1s 202us/step - loss: 0.0640 - acc: 0.9771 - val_loss: 0.0741 - val_acc: 0.9704\n",
            "Epoch 12/18\n",
            "3750/3750 [==============================] - 1s 202us/step - loss: 0.0681 - acc: 0.9757 - val_loss: 0.0660 - val_acc: 0.9784\n",
            "Epoch 13/18\n",
            "3750/3750 [==============================] - 1s 199us/step - loss: 0.0561 - acc: 0.9808 - val_loss: 0.0627 - val_acc: 0.9792\n",
            "Epoch 14/18\n",
            "3750/3750 [==============================] - 1s 210us/step - loss: 0.0495 - acc: 0.9821 - val_loss: 0.0838 - val_acc: 0.9696\n",
            "Epoch 15/18\n",
            "3750/3750 [==============================] - 1s 209us/step - loss: 0.0602 - acc: 0.9800 - val_loss: 0.0687 - val_acc: 0.9744\n",
            "Epoch 16/18\n",
            "3750/3750 [==============================] - 1s 202us/step - loss: 0.0524 - acc: 0.9811 - val_loss: 0.0523 - val_acc: 0.9848\n",
            "Epoch 17/18\n",
            "3750/3750 [==============================] - 1s 198us/step - loss: 0.0469 - acc: 0.9840 - val_loss: 0.0647 - val_acc: 0.9792\n",
            "Epoch 18/18\n",
            "3750/3750 [==============================] - 1s 207us/step - loss: 0.0546 - acc: 0.9832 - val_loss: 0.0640 - val_acc: 0.9752\n"
          ],
          "name": "stdout"
        }
      ]
    },
    {
      "metadata": {
        "id": "S_rOs6f2BNg3",
        "colab_type": "code",
        "outputId": "4c140eeb-abfc-45d4-a3ba-e0d3373db692",
        "colab": {
          "base_uri": "https://localhost:8080/",
          "height": 378
        }
      },
      "cell_type": "code",
      "source": [
        "ax = pd.DataFrame(history.history).plot(logy=True)\n",
        "ax.set_xlabel(\"epoch\")"
      ],
      "execution_count": 5,
      "outputs": [
        {
          "output_type": "execute_result",
          "data": {
            "text/plain": [
              "Text(0.5, 0, 'epoch')"
            ]
          },
          "metadata": {
            "tags": []
          },
          "execution_count": 5
        },
        {
          "output_type": "display_data",
          "data": {
            "image/png": "[encoded data removed]",
            "text/plain": [
              "<Figure size 576x396 with 1 Axes>"
            ]
          },
          "metadata": {
            "tags": []
          }
        }
      ]
    },
    {
      "metadata": {
        "id": "63gB0_ADcKqY",
        "colab_type": "code",
        "outputId": "12c12ee2-9729-4636-f041-9edeced13af9",
        "colab": {
          "base_uri": "https://localhost:8080/",
          "height": 365
        }
      },
      "cell_type": "code",
      "source": [
        "model_activations = models.Model(inputs, attention_probs)\n",
        "activations = model_activations.predict(X_test).mean(axis=0)\n",
        "pd.DataFrame(activations, columns=['attention (%)']).plot(kind='bar')\n",
        "\n",
        "print('relevant numbers for classification in columns: %s' % \n",
        "        ', '.join(str(i) for i in rev_index[:3]))"
      ],
      "execution_count": 6,
      "outputs": [
        {
          "output_type": "stream",
          "text": [
            "relevant numbers for classification in columns: 4, 8, 6\n"
          ],
          "name": "stdout"
        },
        {
          "output_type": "display_data",
          "data": {
            "image/png": "[encoded data removed]",
            "text/plain": [
              "<Figure size 576x396 with 1 Axes>"
            ]
          },
          "metadata": {
            "tags": []
          }
        }
      ]
    },
    {
      "metadata": {
        "id": "fqRX6ovusCi-",
        "colab_type": "code",
        "colab": {}
      },
      "cell_type": "code",
      "source": [
        ""
      ],
      "execution_count": 0,
      "outputs": []
    }
  ]
}