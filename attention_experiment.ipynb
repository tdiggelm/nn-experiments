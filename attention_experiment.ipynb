{
  "nbformat": 4,
  "nbformat_minor": 0,
  "metadata": {
    "colab": {
      "name": "attention_experiment.ipynb",
      "version": "0.3.2",
      "provenance": [],
      "collapsed_sections": [],
      "include_colab_link": true
    },
    "kernelspec": {
      "name": "python3",
      "display_name": "Python 3"
    }
  },
  "cells": [
    {
      "cell_type": "markdown",
      "metadata": {
        "id": "view-in-github",
        "colab_type": "text"
      },
      "source": [
        "<a href=\"https://colab.research.google.com/github/tdiggelm/nn-experiments/blob/master/attention_experiment.ipynb\" target=\"_parent\"><img src=\"https://colab.research.google.com/assets/colab-badge.svg\" alt=\"Open In Colab\"/></a>"
      ]
    },
    {
      "metadata": {
        "id": "JFOdq4GmZdbm",
        "colab_type": "code",
        "colab": {}
      },
      "cell_type": "code",
      "source": [
        "from keras import layers, models\n",
        "import numpy as np\n",
        "from sklearn.model_selection import train_test_split\n",
        "import pandas as pd"
      ],
      "execution_count": 0,
      "outputs": []
    },
    {
      "metadata": {
        "id": "KYx-3zRuZk3k",
        "colab_type": "code",
        "colab": {
          "base_uri": "https://localhost:8080/",
          "height": 34
        },
        "outputId": "21e3c511-cfc8-4341-dfbe-b49bb9ac013d"
      },
      "cell_type": "code",
      "source": [
        "n_samples = 5000\n",
        "numbers = np.random.normal(0, 1, (n_samples, 3))\n",
        "totals = np.sum(numbers, axis=1)\n",
        "labels = np.array(totals > 0, dtype='int32')\n",
        "noise = np.random.normal(0, 1, (n_samples, 10))\n",
        "data = np.concatenate([numbers, noise], axis=1)\n",
        "index = np.arange(data.shape[1])\n",
        "np.random.shuffle(index)\n",
        "rev_index = np.zeros_like(index)\n",
        "for i, pos in enumerate(index):\n",
        "  rev_index[pos] = i\n",
        "data = data[:, index]\n",
        "\n",
        "X_train, X_test, y_train, y_test = train_test_split(data, labels, shuffle=False)\n",
        "print('relevant numbers for classification in columns: %s' % \n",
        "        ', '.join(str(i) for i in rev_index[:3]))"
      ],
      "execution_count": 143,
      "outputs": [
        {
          "output_type": "stream",
          "text": [
            "relevant numbers for classification in columns: 8, 1, 5\n"
          ],
          "name": "stdout"
        }
      ]
    },
    {
      "metadata": {
        "id": "IaJdJfUiaDPm",
        "colab_type": "code",
        "colab": {}
      },
      "cell_type": "code",
      "source": [
        "USE_ATTENTION = True\n",
        "inputs = layers.Input(shape=(data.shape[1],))\n",
        "x = inputs\n",
        "if USE_ATTENTION:\n",
        "  attention_dense = layers.Dense(1024, activation='relu')(inputs)\n",
        "  attention_dense = layers.Dropout(0.5)(attention_dense)\n",
        "  attention_probs = layers.Dense(data.shape[1], activation='softmax', name='attention_probs')(attention_dense)\n",
        "  x = layers.Multiply()([inputs, attention_probs])\n",
        "x = layers.Dense(1024, activation='relu')(x)\n",
        "x = layers.Dropout(0.5)(x)\n",
        "x = layers.Dense(1, activation='sigmoid')(x)\n",
        "model = models.Model(inputs, x)\n",
        "model.compile(optimizer='adam', loss='binary_crossentropy', metrics=['accuracy'])"
      ],
      "execution_count": 0,
      "outputs": []
    },
    {
      "metadata": {
        "id": "T_LxDOCyaY1F",
        "colab_type": "code",
        "outputId": "2905019e-223f-4e00-c7fe-5ca46a881055",
        "colab": {
          "base_uri": "https://localhost:8080/",
          "height": 646
        }
      },
      "cell_type": "code",
      "source": [
        "history = model.fit(X_train, y_train, validation_data=(X_test, y_test), epochs=18, verbose=1)"
      ],
      "execution_count": 145,
      "outputs": [
        {
          "output_type": "stream",
          "text": [
            "Train on 3750 samples, validate on 1250 samples\n",
            "Epoch 1/18\n",
            "3750/3750 [==============================] - 3s 711us/step - loss: 0.3548 - acc: 0.8749 - val_loss: 0.1398 - val_acc: 0.9640\n",
            "Epoch 2/18\n",
            "3750/3750 [==============================] - 1s 162us/step - loss: 0.1238 - acc: 0.9555 - val_loss: 0.1204 - val_acc: 0.9600\n",
            "Epoch 3/18\n",
            "3750/3750 [==============================] - 1s 170us/step - loss: 0.1068 - acc: 0.9573 - val_loss: 0.1125 - val_acc: 0.9520\n",
            "Epoch 4/18\n",
            "3750/3750 [==============================] - 1s 161us/step - loss: 0.0900 - acc: 0.9667 - val_loss: 0.1028 - val_acc: 0.9584\n",
            "Epoch 5/18\n",
            "3750/3750 [==============================] - 1s 173us/step - loss: 0.0944 - acc: 0.9651 - val_loss: 0.0873 - val_acc: 0.9600\n",
            "Epoch 6/18\n",
            "3750/3750 [==============================] - 1s 172us/step - loss: 0.0794 - acc: 0.9696 - val_loss: 0.0838 - val_acc: 0.9632\n",
            "Epoch 7/18\n",
            "3750/3750 [==============================] - 1s 171us/step - loss: 0.0731 - acc: 0.9717 - val_loss: 0.1269 - val_acc: 0.9488\n",
            "Epoch 8/18\n",
            "3750/3750 [==============================] - 1s 175us/step - loss: 0.0784 - acc: 0.9677 - val_loss: 0.0784 - val_acc: 0.9640\n",
            "Epoch 9/18\n",
            "3750/3750 [==============================] - 1s 179us/step - loss: 0.0707 - acc: 0.9733 - val_loss: 0.0854 - val_acc: 0.9616\n",
            "Epoch 10/18\n",
            "3750/3750 [==============================] - 1s 175us/step - loss: 0.0639 - acc: 0.9787 - val_loss: 0.0930 - val_acc: 0.9600\n",
            "Epoch 11/18\n",
            "3750/3750 [==============================] - 1s 168us/step - loss: 0.0570 - acc: 0.9789 - val_loss: 0.0655 - val_acc: 0.9720\n",
            "Epoch 12/18\n",
            "3750/3750 [==============================] - 1s 172us/step - loss: 0.0528 - acc: 0.9819 - val_loss: 0.0756 - val_acc: 0.9648\n",
            "Epoch 13/18\n",
            "3750/3750 [==============================] - 1s 165us/step - loss: 0.0548 - acc: 0.9805 - val_loss: 0.0714 - val_acc: 0.9728\n",
            "Epoch 14/18\n",
            "3750/3750 [==============================] - 1s 171us/step - loss: 0.0502 - acc: 0.9837 - val_loss: 0.0777 - val_acc: 0.9728\n",
            "Epoch 15/18\n",
            "3750/3750 [==============================] - 1s 169us/step - loss: 0.0541 - acc: 0.9811 - val_loss: 0.0974 - val_acc: 0.9592\n",
            "Epoch 16/18\n",
            "3750/3750 [==============================] - 1s 165us/step - loss: 0.0472 - acc: 0.9840 - val_loss: 0.0979 - val_acc: 0.9696\n",
            "Epoch 17/18\n",
            "3750/3750 [==============================] - 1s 168us/step - loss: 0.0531 - acc: 0.9808 - val_loss: 0.0629 - val_acc: 0.9728\n",
            "Epoch 18/18\n",
            "3750/3750 [==============================] - 1s 173us/step - loss: 0.0542 - acc: 0.9792 - val_loss: 0.0810 - val_acc: 0.9704\n"
          ],
          "name": "stdout"
        }
      ]
    },
    {
      "metadata": {
        "id": "S_rOs6f2BNg3",
        "colab_type": "code",
        "colab": {
          "base_uri": "https://localhost:8080/",
          "height": 378
        },
        "outputId": "d1f23f5b-7dc8-498b-9fa3-605063ccfdcd"
      },
      "cell_type": "code",
      "source": [
        "ax = pd.DataFrame(history.history).plot(logy=True)\n",
        "ax.set_xlabel(\"epoch\")"
      ],
      "execution_count": 146,
      "outputs": [
        {
          "output_type": "execute_result",
          "data": {
            "text/plain": [
              "Text(0.5, 0, 'epoch')"
            ]
          },
          "metadata": {
            "tags": []
          },
          "execution_count": 146
        },
        {
          "output_type": "display_data",
          "data": {
            "image/png": "[encoded data removed]",
            "text/plain": [
              "<Figure size 576x396 with 1 Axes>"
            ]
          },
          "metadata": {
            "tags": []
          }
        }
      ]
    },
    {
      "metadata": {
        "id": "63gB0_ADcKqY",
        "colab_type": "code",
        "colab": {
          "base_uri": "https://localhost:8080/",
          "height": 365
        },
        "outputId": "3230a69a-8a71-40b9-ce4c-4f4802f4912c"
      },
      "cell_type": "code",
      "source": [
        "model_activations = models.Model(inputs, attention_probs)\n",
        "activations = model_activations.predict(X_test).mean(axis=0)\n",
        "pd.DataFrame(activations, columns=['attention (%)']).plot(kind='bar')"
      ],
      "execution_count": 147,
      "outputs": [
        {
          "output_type": "execute_result",
          "data": {
            "text/plain": [
              "<matplotlib.axes._subplots.AxesSubplot at 0x7f26fd0b6a58>"
            ]
          },
          "metadata": {
            "tags": []
          },
          "execution_count": 147
        },
        {
          "output_type": "display_data",
          "data": {
            "image/png": "[encoded data removed]",
            "text/plain": [
              "<Figure size 576x396 with 1 Axes>"
            ]
          },
          "metadata": {
            "tags": []
          }
        }
      ]
    },
    {
      "metadata": {
        "id": "fqRX6ovusCi-",
        "colab_type": "code",
        "colab": {}
      },
      "cell_type": "code",
      "source": [
        ""
      ],
      "execution_count": 0,
      "outputs": []
    }
  ]
}