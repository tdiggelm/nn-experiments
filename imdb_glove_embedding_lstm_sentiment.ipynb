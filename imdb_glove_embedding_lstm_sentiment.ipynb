{
 "cells": [
  {
   "cell_type": "code",
   "execution_count": null,
   "metadata": {},
   "outputs": [],
   "source": [
    "# * Outlook for multiple classes: for multi-class prediction use softmax but for multi-label prediction use sigmoid\n",
    "# * Use aws deep learning instance: https://docs.aws.amazon.com/dlami/latest/devguide/keras-mxnet.html\n",
    "# * Use t-SNE to visualize the word embeddings\n",
    "# * Similarity search by using learned embeddings, i.e. \n",
    "#   https://blog.insightdatascience.com/the-unreasonable-effectiveness-of-deep-learning-representations-4ce83fc663cf\n",
    "#   (especially Spotify Annoy Index)"
   ]
  },
  {
   "cell_type": "code",
   "execution_count": null,
   "metadata": {},
   "outputs": [],
   "source": [
    "from keras.datasets import imdb\n",
    "from keras.preprocessing import sequence \n",
    "from keras.layers import LSTM, Embedding, Dense, Flatten, Bidirectional\n",
    "from keras.models import Sequential\n",
    "from keras.utils import get_file\n",
    "from keras.initializers import Constant\n",
    "import numpy as np\n",
    "\n",
    "MAX_NUM_WORDS = 5000\n",
    "MAX_SEQUENCE_LEN = 500"
   ]
  },
  {
   "cell_type": "code",
   "execution_count": null,
   "metadata": {},
   "outputs": [],
   "source": [
    "(X_train, y_train), (X_test, y_test) = imdb.load_data(num_words=MAX_NUM_WORDS)"
   ]
  },
  {
   "cell_type": "code",
   "execution_count": null,
   "metadata": {},
   "outputs": [],
   "source": [
    "INDEX_FROM = 3 # since 0 = padding, 1 = start, 2 = unkown\n",
    "word_to_id = imdb.get_word_index()\n",
    "word_to_id = {k:(v+INDEX_FROM) for k,v in word_to_id.items()}\n",
    "word_to_id[\"<PAD>\"] = 0\n",
    "word_to_id[\"<START>\"] = 1\n",
    "word_to_id[\"<UNK>\"] = 2\n",
    "id_to_word = {value:key for key,value in word_to_id.items()}\n",
    "print(' '.join(id_to_word[id] for id in X_train[2] ))"
   ]
  },
  {
   "cell_type": "code",
   "execution_count": null,
   "metadata": {},
   "outputs": [],
   "source": [
    "X_train = sequence.pad_sequences(X_train, maxlen=MAX_SEQUENCE_LEN) \n",
    "X_test = sequence.pad_sequences(X_test, maxlen=MAX_SEQUENCE_LEN) "
   ]
  },
  {
   "cell_type": "code",
   "execution_count": 26,
   "metadata": {},
   "outputs": [
    {
     "name": "stdout",
     "output_type": "stream",
     "text": [
      "Found 400000 word vectors.\n",
      "0.20312092\n",
      "1.0\n",
      "0.7507691\n",
      "0.78344136\n"
     ]
    }
   ],
   "source": [
    "# get glove coeff matrix\n",
    "embeddings_index = {}\n",
    "fname = get_file(\"glove.6B.100d.txt\", \"http://nlp.stanford.edu/data/glove.6B.zip\", extract=True)\n",
    "with open(fname, encoding=\"utf-8\") as f:\n",
    "    for line in f:\n",
    "        values = line.split()\n",
    "        word = values[0]\n",
    "        coefs = np.asarray(values[1:], dtype='float32')\n",
    "        embeddings_index[word] = coefs\n",
    "print('Found %s word vectors.' % len(embeddings_index))\n",
    "\n",
    "# prepare pre-learned embedding matrix\n",
    "embdedding_dim = 100\n",
    "word_index = imdb.get_word_index()\n",
    "num_words = min(MAX_NUM_WORDS, len(word_index)) + 1\n",
    "embedding_matrix = np.zeros((num_words, embdedding_dim))\n",
    "for word, i in word_index.items():\n",
    "    if i > MAX_NUM_WORDS:\n",
    "        continue\n",
    "    embedding_vector = embeddings_index.get(word)\n",
    "    if embedding_vector is not None:\n",
    "        # words not found in embedding index will be all-zeros.\n",
    "        embedding_matrix[i] = embedding_vector\n",
    "        \n",
    "glove_embedding = Embedding(num_words, embdedding_dim, \n",
    "                            input_length=MAX_SEQUENCE_LEN,\n",
    "                            embeddings_initializer=Constant(embedding_matrix), trainable=True)\n",
    "\n",
    "# test embedding model\n",
    "def cosine_sim(v1, v2):\n",
    "    return np.dot(v1, v2) / np.sqrt(np.dot(v1, v1)) / np.sqrt(np.dot(v2, v2))\n",
    "print(cosine_sim(embeddings_index[\"apple\"], embeddings_index[\"metal\"]))\n",
    "print(cosine_sim(embeddings_index[\"apple\"], embeddings_index[\"apple\"]))\n",
    "print(cosine_sim(embeddings_index[\"king\"], embeddings_index[\"queen\"]))\n",
    "print(cosine_sim(embeddings_index[\"king\"]-embeddings_index[\"man\"]+embeddings_index[\"woman\"], \n",
    "                 embeddings_index[\"queen\"]))"
   ]
  },
  {
   "cell_type": "code",
   "execution_count": 27,
   "metadata": {},
   "outputs": [
    {
     "name": "stdout",
     "output_type": "stream",
     "text": [
      "_________________________________________________________________\n",
      "Layer (type)                 Output Shape              Param #   \n",
      "=================================================================\n",
      "embedding_7 (Embedding)      (None, 500, 100)          500100    \n",
      "_________________________________________________________________\n",
      "flatten_3 (Flatten)          (None, 50000)             0         \n",
      "_________________________________________________________________\n",
      "dense_9 (Dense)              (None, 250)               12500250  \n",
      "_________________________________________________________________\n",
      "dense_10 (Dense)             (None, 1)                 251       \n",
      "=================================================================\n",
      "Total params: 13,000,601\n",
      "Trainable params: 13,000,601\n",
      "Non-trainable params: 0\n",
      "_________________________________________________________________\n",
      "None\n",
      "Train on 22500 samples, validate on 2500 samples\n",
      "Epoch 1/3\n",
      "22500/22500 [==============================] - 366s 16ms/step - loss: 0.7622 - acc: 0.6016 - val_loss: 0.5349 - val_acc: 0.7316\n",
      "Epoch 2/3\n",
      "22500/22500 [==============================] - 278s 12ms/step - loss: 0.3419 - acc: 0.8529 - val_loss: 0.4156 - val_acc: 0.8128\n",
      "Epoch 3/3\n",
      "22500/22500 [==============================] - 279s 12ms/step - loss: 0.1479 - acc: 0.9434 - val_loss: 0.4599 - val_acc: 0.8468\n",
      "25000/25000 [==============================] - 37s 1ms/step\n"
     ]
    },
    {
     "data": {
      "text/plain": [
       "[0.4509590995502472, 0.8316]"
      ]
     },
     "execution_count": 27,
     "metadata": {},
     "output_type": "execute_result"
    }
   ],
   "source": [
    "USE_LSTM = False\n",
    "USE_GLOVE = True # trainable=True\n",
    "\n",
    "# Build the model \n",
    "model = Sequential()\n",
    "\n",
    "if USE_GLOVE:\n",
    "    model.add(glove_embedding)\n",
    "else:\n",
    "    embedding_vector_length = 32\n",
    "    model.add(Embedding(MAX_NUM_WORDS, embedding_vector_length, input_length=MAX_SEQUENCE_LEN)) \n",
    "\n",
    "if USE_LSTM:\n",
    "    model.add(Bidirectional(LSTM(32, return_sequences=True, dropout=0.1)))\n",
    "    model.add(Bidirectional(LSTM(32, dropout=0.1)))\n",
    "else:\n",
    "    model.add(Flatten())\n",
    "    model.add(Dense(250, activation='relu'))\n",
    "    \n",
    "model.add(Dense(1, activation='sigmoid')) \n",
    "model.compile(loss='binary_crossentropy', optimizer='adam', metrics=['accuracy']) \n",
    "print(model.summary()) \n",
    "\n",
    "model.fit(X_train, y_train, epochs=3, batch_size=32, validation_split=0.1)\n",
    "model.evaluate(X_test, y_test)"
   ]
  },
  {
   "cell_type": "code",
   "execution_count": 25,
   "metadata": {},
   "outputs": [
    {
     "name": "stdout",
     "output_type": "stream",
     "text": [
      "_________________________________________________________________\n",
      "Layer (type)                 Output Shape              Param #   \n",
      "=================================================================\n",
      "embedding_4 (Embedding)      (None, 500, 100)          500100    \n",
      "_________________________________________________________________\n",
      "flatten_2 (Flatten)          (None, 50000)             0         \n",
      "_________________________________________________________________\n",
      "dense_7 (Dense)              (None, 250)               12500250  \n",
      "_________________________________________________________________\n",
      "dense_8 (Dense)              (None, 1)                 251       \n",
      "=================================================================\n",
      "Total params: 13,000,601\n",
      "Trainable params: 12,500,501\n",
      "Non-trainable params: 500,100\n",
      "_________________________________________________________________\n",
      "None\n",
      "Train on 22500 samples, validate on 2500 samples\n",
      "Epoch 1/3\n",
      "22500/22500 [==============================] - 264s 12ms/step - loss: 0.8390 - acc: 0.5362 - val_loss: 0.6758 - val_acc: 0.5716\n",
      "Epoch 2/3\n",
      "22500/22500 [==============================] - 255s 11ms/step - loss: 0.6100 - acc: 0.6688 - val_loss: 0.8126 - val_acc: 0.5320\n",
      "Epoch 3/3\n",
      "22500/22500 [==============================] - 312s 14ms/step - loss: 0.5161 - acc: 0.7355 - val_loss: 0.7946 - val_acc: 0.5816\n",
      "25000/25000 [==============================] - 75s 3ms/step\n"
     ]
    },
    {
     "data": {
      "text/plain": [
       "[0.8002648965454101, 0.5774]"
      ]
     },
     "execution_count": 25,
     "metadata": {},
     "output_type": "execute_result"
    }
   ],
   "source": [
    "USE_LSTM = False\n",
    "USE_GLOVE = True # trainable=False\n",
    "\n",
    "# Build the model \n",
    "model = Sequential()\n",
    "\n",
    "if USE_GLOVE:\n",
    "    model.add(glove_embedding)\n",
    "else:\n",
    "    embedding_vector_length = 32\n",
    "    model.add(Embedding(MAX_NUM_WORDS, embedding_vector_length, input_length=MAX_SEQUENCE_LEN)) \n",
    "\n",
    "if USE_LSTM:\n",
    "    model.add(Bidirectional(LSTM(32, return_sequences=True, dropout=0.1)))\n",
    "    model.add(Bidirectional(LSTM(32, dropout=0.1)))\n",
    "else:\n",
    "    model.add(Flatten())\n",
    "    model.add(Dense(250, activation='relu'))\n",
    "    \n",
    "model.add(Dense(1, activation='sigmoid')) \n",
    "model.compile(loss='binary_crossentropy', optimizer='adam', metrics=['accuracy']) \n",
    "print(model.summary()) \n",
    "\n",
    "model.fit(X_train, y_train, epochs=3, batch_size=32, validation_split=0.1)\n",
    "model.evaluate(X_test, y_test)"
   ]
  },
  {
   "cell_type": "code",
   "execution_count": 24,
   "metadata": {},
   "outputs": [
    {
     "name": "stdout",
     "output_type": "stream",
     "text": [
      "_________________________________________________________________\n",
      "Layer (type)                 Output Shape              Param #   \n",
      "=================================================================\n",
      "embedding_6 (Embedding)      (None, 500, 32)           160000    \n",
      "_________________________________________________________________\n",
      "flatten_1 (Flatten)          (None, 16000)             0         \n",
      "_________________________________________________________________\n",
      "dense_5 (Dense)              (None, 250)               4000250   \n",
      "_________________________________________________________________\n",
      "dense_6 (Dense)              (None, 1)                 251       \n",
      "=================================================================\n",
      "Total params: 4,160,501\n",
      "Trainable params: 4,160,501\n",
      "Non-trainable params: 0\n",
      "_________________________________________________________________\n",
      "None\n",
      "Train on 22500 samples, validate on 2500 samples\n",
      "Epoch 1/3\n",
      "22500/22500 [==============================] - 104s 5ms/step - loss: 0.4202 - acc: 0.7843 - val_loss: 0.2958 - val_acc: 0.8824\n",
      "Epoch 2/3\n",
      "22500/22500 [==============================] - 99s 4ms/step - loss: 0.1372 - acc: 0.9493 - val_loss: 0.4046 - val_acc: 0.8568\n",
      "Epoch 3/3\n",
      "22500/22500 [==============================] - 96s 4ms/step - loss: 0.0240 - acc: 0.9928 - val_loss: 0.5561 - val_acc: 0.8632\n",
      "25000/25000 [==============================] - 12s 491us/step\n"
     ]
    },
    {
     "data": {
      "text/plain": [
       "[0.5609432465255261, 0.85392]"
      ]
     },
     "execution_count": 24,
     "metadata": {},
     "output_type": "execute_result"
    }
   ],
   "source": [
    "USE_LSTM = False\n",
    "USE_GLOVE = False\n",
    "\n",
    "# Build the model \n",
    "model = Sequential()\n",
    "\n",
    "if USE_GLOVE:\n",
    "    model.add(glove_embedding)\n",
    "else:\n",
    "    embedding_vector_length = 32\n",
    "    model.add(Embedding(MAX_NUM_WORDS, embedding_vector_length, input_length=MAX_SEQUENCE_LEN)) \n",
    "\n",
    "if USE_LSTM:\n",
    "    model.add(Bidirectional(LSTM(32, return_sequences=True, dropout=0.1)))\n",
    "    model.add(Bidirectional(LSTM(32, dropout=0.1)))\n",
    "else:\n",
    "    model.add(Flatten())\n",
    "    model.add(Dense(250, activation='relu'))\n",
    "    \n",
    "model.add(Dense(1, activation='sigmoid')) \n",
    "model.compile(loss='binary_crossentropy', optimizer='adam', metrics=['accuracy']) \n",
    "print(model.summary()) \n",
    "\n",
    "model.fit(X_train, y_train, epochs=3, batch_size=32, validation_split=0.1)\n",
    "model.evaluate(X_test, y_test)"
   ]
  },
  {
   "cell_type": "code",
   "execution_count": 22,
   "metadata": {},
   "outputs": [
    {
     "name": "stdout",
     "output_type": "stream",
     "text": [
      "_________________________________________________________________\n",
      "Layer (type)                 Output Shape              Param #   \n",
      "=================================================================\n",
      "embedding_5 (Embedding)      (None, 500, 32)           160000    \n",
      "_________________________________________________________________\n",
      "bidirectional_7 (Bidirection (None, 500, 64)           16640     \n",
      "_________________________________________________________________\n",
      "bidirectional_8 (Bidirection (None, 64)                24832     \n",
      "_________________________________________________________________\n",
      "dense_4 (Dense)              (None, 1)                 65        \n",
      "=================================================================\n",
      "Total params: 201,537\n",
      "Trainable params: 201,537\n",
      "Non-trainable params: 0\n",
      "_________________________________________________________________\n",
      "None\n"
     ]
    }
   ],
   "source": [
    "USE_LSTM = True\n",
    "USE_GLOVE = False\n",
    "\n",
    "# Build the model \n",
    "model = Sequential()\n",
    "\n",
    "if USE_GLOVE:\n",
    "    model.add(glove_embedding)\n",
    "else:\n",
    "    embedding_vector_length = 32\n",
    "    model.add(Embedding(MAX_NUM_WORDS, embedding_vector_length, input_length=MAX_SEQUENCE_LEN)) \n",
    "\n",
    "if USE_LSTM:\n",
    "    model.add(Bidirectional(LSTM(32, return_sequences=True, dropout=0.1)))\n",
    "    model.add(Bidirectional(LSTM(32, dropout=0.1)))\n",
    "else:\n",
    "    model.add(Flatten())\n",
    "    model.add(Dense(250, activation='relu'))\n",
    "    \n",
    "model.add(Dense(1, activation='sigmoid')) \n",
    "model.compile(loss='binary_crossentropy', optimizer='adam', metrics=['accuracy']) \n",
    "print(model.summary()) "
   ]
  },
  {
   "cell_type": "code",
   "execution_count": 23,
   "metadata": {},
   "outputs": [
    {
     "name": "stdout",
     "output_type": "stream",
     "text": [
      "Train on 22500 samples, validate on 2500 samples\n",
      "Epoch 1/3\n",
      "22500/22500 [==============================] - 1785s 79ms/step - loss: 0.4157 - acc: 0.8040 - val_loss: 0.3233 - val_acc: 0.8712\n",
      "Epoch 2/3\n",
      "22500/22500 [==============================] - 1331s 59ms/step - loss: 0.2693 - acc: 0.8930 - val_loss: 0.3123 - val_acc: 0.8660\n",
      "Epoch 3/3\n",
      "22500/22500 [==============================] - 1251s 56ms/step - loss: 0.2259 - acc: 0.9135 - val_loss: 0.3276 - val_acc: 0.8568\n",
      "25000/25000 [==============================] - 265s 11ms/step\n"
     ]
    },
    {
     "data": {
      "text/plain": [
       "[0.3252795199871063, 0.86184]"
      ]
     },
     "execution_count": 23,
     "metadata": {},
     "output_type": "execute_result"
    }
   ],
   "source": [
    "model.fit(X_train, y_train, epochs=3, batch_size=32, validation_split=0.1)\n",
    "model.evaluate(X_test, y_test)"
   ]
  },
  {
   "cell_type": "code",
   "execution_count": 18,
   "metadata": {},
   "outputs": [
    {
     "name": "stdout",
     "output_type": "stream",
     "text": [
      "_________________________________________________________________\n",
      "Layer (type)                 Output Shape              Param #   \n",
      "=================================================================\n",
      "embedding_3 (Embedding)      (None, 500, 100)          500100    \n",
      "_________________________________________________________________\n",
      "bidirectional_5 (Bidirection (None, 500, 64)           34048     \n",
      "_________________________________________________________________\n",
      "bidirectional_6 (Bidirection (None, 64)                24832     \n",
      "_________________________________________________________________\n",
      "dense_3 (Dense)              (None, 1)                 65        \n",
      "=================================================================\n",
      "Total params: 559,045\n",
      "Trainable params: 559,045\n",
      "Non-trainable params: 0\n",
      "_________________________________________________________________\n",
      "None\n"
     ]
    }
   ],
   "source": [
    "#\n",
    "# LSTM and GLOVE (fine-tune)\n",
    "#\n",
    "\n",
    "USE_LSTM = True\n",
    "USE_GLOVE = True\n",
    "\n",
    "# Build the model \n",
    "model = Sequential()\n",
    "\n",
    "if USE_GLOVE:\n",
    "    model.add(glove_embedding)\n",
    "else:\n",
    "    embedding_vector_length = 32\n",
    "    model.add(Embedding(MAX_NUM_WORDS, embedding_vector_length, input_length=MAX_SEQUENCE_LEN)) \n",
    "\n",
    "if USE_LSTM:\n",
    "    model.add(Bidirectional(LSTM(32, return_sequences=True, dropout=0.1)))\n",
    "    model.add(Bidirectional(LSTM(32, dropout=0.1)))\n",
    "else:\n",
    "    model.add(Flatten())\n",
    "    model.add(Dense(250, activation='relu'))\n",
    "    \n",
    "model.add(Dense(1, activation='sigmoid')) \n",
    "model.compile(loss='binary_crossentropy', optimizer='adam', metrics=['accuracy']) \n",
    "print(model.summary()) "
   ]
  },
  {
   "cell_type": "code",
   "execution_count": 19,
   "metadata": {},
   "outputs": [
    {
     "name": "stdout",
     "output_type": "stream",
     "text": [
      "Train on 22500 samples, validate on 2500 samples\n",
      "Epoch 1/3\n",
      "22500/22500 [==============================] - 1392s 62ms/step - loss: 0.5610 - acc: 0.6847 - val_loss: 0.3464 - val_acc: 0.8564\n",
      "Epoch 2/3\n",
      "22500/22500 [==============================] - 1375s 61ms/step - loss: 0.2971 - acc: 0.8786 - val_loss: 0.2864 - val_acc: 0.8800\n",
      "Epoch 3/3\n",
      "22500/22500 [==============================] - 1564s 70ms/step - loss: 0.2227 - acc: 0.9120 - val_loss: 0.2924 - val_acc: 0.8916\n"
     ]
    },
    {
     "data": {
      "text/plain": [
       "<keras.callbacks.History at 0x140652320>"
      ]
     },
     "execution_count": 19,
     "metadata": {},
     "output_type": "execute_result"
    }
   ],
   "source": [
    "model.fit(X_train, y_train, epochs=3, batch_size=32, validation_split=0.1)"
   ]
  },
  {
   "cell_type": "code",
   "execution_count": 20,
   "metadata": {},
   "outputs": [
    {
     "name": "stdout",
     "output_type": "stream",
     "text": [
      "25000/25000 [==============================] - 356s 14ms/step\n"
     ]
    },
    {
     "data": {
      "text/plain": [
       "[0.2923556010341644, 0.88252]"
      ]
     },
     "execution_count": 20,
     "metadata": {},
     "output_type": "execute_result"
    }
   ],
   "source": [
    "model.evaluate(X_test, y_test)"
   ]
  },
  {
   "cell_type": "code",
   "execution_count": 14,
   "metadata": {},
   "outputs": [
    {
     "name": "stdout",
     "output_type": "stream",
     "text": [
      "_________________________________________________________________\n",
      "Layer (type)                 Output Shape              Param #   \n",
      "=================================================================\n",
      "embedding_1 (Embedding)      (None, 500, 100)          500100    \n",
      "_________________________________________________________________\n",
      "bidirectional_3 (Bidirection (None, 500, 64)           34048     \n",
      "_________________________________________________________________\n",
      "bidirectional_4 (Bidirection (None, 64)                24832     \n",
      "_________________________________________________________________\n",
      "dense_2 (Dense)              (None, 1)                 65        \n",
      "=================================================================\n",
      "Total params: 559,045\n",
      "Trainable params: 58,945\n",
      "Non-trainable params: 500,100\n",
      "_________________________________________________________________\n",
      "None\n"
     ]
    }
   ],
   "source": [
    "#\n",
    "# LSTM and GLOVE (pre-trained, constant)\n",
    "#\n",
    "\n",
    "USE_LSTM = True\n",
    "USE_GLOVE = True\n",
    "\n",
    "# Build the model \n",
    "model = Sequential()\n",
    "\n",
    "if USE_GLOVE:\n",
    "    model.add(glove_embedding)\n",
    "else:\n",
    "    embedding_vector_length = 32\n",
    "    model.add(Embedding(MAX_NUM_WORDS, embedding_vector_length, input_length=MAX_SEQUENCE_LEN)) \n",
    "\n",
    "if USE_LSTM:\n",
    "    model.add(Bidirectional(LSTM(32, return_sequences=True, dropout=0.1)))\n",
    "    model.add(Bidirectional(LSTM(32, dropout=0.1)))\n",
    "else:\n",
    "    model.add(Flatten())\n",
    "    model.add(Dense(250, activation='relu'))\n",
    "    \n",
    "model.add(Dense(1, activation='sigmoid')) \n",
    "model.compile(loss='binary_crossentropy', optimizer='adam', metrics=['accuracy']) \n",
    "print(model.summary()) "
   ]
  },
  {
   "cell_type": "code",
   "execution_count": 15,
   "metadata": {},
   "outputs": [
    {
     "name": "stdout",
     "output_type": "stream",
     "text": [
      "Train on 22500 samples, validate on 2500 samples\n",
      "Epoch 1/3\n",
      "22500/22500 [==============================] - 1269s 56ms/step - loss: 0.6849 - acc: 0.5442 - val_loss: 0.6609 - val_acc: 0.5868\n",
      "Epoch 2/3\n",
      "22500/22500 [==============================] - 1270s 56ms/step - loss: 0.6204 - acc: 0.6507 - val_loss: 0.6013 - val_acc: 0.6648\n",
      "Epoch 3/3\n",
      "22500/22500 [==============================] - 1238s 55ms/step - loss: 0.5646 - acc: 0.7058 - val_loss: 0.5308 - val_acc: 0.7252\n"
     ]
    },
    {
     "data": {
      "text/plain": [
       "<keras.callbacks.History at 0x10cac34a8>"
      ]
     },
     "execution_count": 15,
     "metadata": {},
     "output_type": "execute_result"
    }
   ],
   "source": [
    "model.fit(X_train, y_train, epochs=3, batch_size=32, validation_split=0.1)"
   ]
  },
  {
   "cell_type": "code",
   "execution_count": 16,
   "metadata": {},
   "outputs": [
    {
     "name": "stdout",
     "output_type": "stream",
     "text": [
      "25000/25000 [==============================] - 252s 10ms/step\n"
     ]
    },
    {
     "data": {
      "text/plain": [
       "[0.5239130891036987, 0.73788]"
      ]
     },
     "execution_count": 16,
     "metadata": {},
     "output_type": "execute_result"
    }
   ],
   "source": [
    "model.evaluate(X_test, y_test)"
   ]
  },
  {
   "cell_type": "code",
   "execution_count": null,
   "metadata": {},
   "outputs": [],
   "source": []
  }
 ],
 "metadata": {
  "kernelspec": {
   "display_name": "Python 3",
   "language": "python",
   "name": "python3"
  },
  "language_info": {
   "codemirror_mode": {
    "name": "ipython",
    "version": 3
   },
   "file_extension": ".py",
   "mimetype": "text/x-python",
   "name": "python",
   "nbconvert_exporter": "python",
   "pygments_lexer": "ipython3",
   "version": "3.6.4"
  }
 },
 "nbformat": 4,
 "nbformat_minor": 2
}
